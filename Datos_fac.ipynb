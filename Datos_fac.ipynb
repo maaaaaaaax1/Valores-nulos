{
 "cells": [
  {
   "cell_type": "code",
   "execution_count": 1,
   "metadata": {},
   "outputs": [],
   "source": [
    "#importamos librerias\n",
    "import pandas as pd\n",
    "import numpy as np\n",
    "import matplotlib.pyplot as plt"
   ]
  },
  {
   "cell_type": "code",
   "execution_count": 4,
   "metadata": {},
   "outputs": [
    {
     "data": {
      "text/html": [
       "<div>\n",
       "<style scoped>\n",
       "    .dataframe tbody tr th:only-of-type {\n",
       "        vertical-align: middle;\n",
       "    }\n",
       "\n",
       "    .dataframe tbody tr th {\n",
       "        vertical-align: top;\n",
       "    }\n",
       "\n",
       "    .dataframe thead th {\n",
       "        text-align: right;\n",
       "    }\n",
       "</style>\n",
       "<table border=\"1\" class=\"dataframe\">\n",
       "  <thead>\n",
       "    <tr style=\"text-align: right;\">\n",
       "      <th></th>\n",
       "      <th>CVE_DOC</th>\n",
       "      <th>CVE_CLPV</th>\n",
       "      <th>STATUS</th>\n",
       "      <th>CVE_VEND</th>\n",
       "      <th>FECHAELAB</th>\n",
       "      <th>FECHA_DOC</th>\n",
       "      <th>FECHA_ENT</th>\n",
       "      <th>FECHA_VEN</th>\n",
       "      <th>FECHA_CANCELA</th>\n",
       "      <th>CAN_TOT</th>\n",
       "      <th>DES_TOT</th>\n",
       "      <th>DES_FIN</th>\n",
       "    </tr>\n",
       "  </thead>\n",
       "  <tbody>\n",
       "    <tr>\n",
       "      <th>0</th>\n",
       "      <td>F29414</td>\n",
       "      <td>2465</td>\n",
       "      <td>C</td>\n",
       "      <td>1.0</td>\n",
       "      <td>2019-09-03 08:58:42</td>\n",
       "      <td>2019-09-03</td>\n",
       "      <td>2019-09-03 00:00:00</td>\n",
       "      <td>2019-09-18</td>\n",
       "      <td>2019-09-04</td>\n",
       "      <td>3980.0</td>\n",
       "      <td>0.0</td>\n",
       "      <td>0.0</td>\n",
       "    </tr>\n",
       "    <tr>\n",
       "      <th>1</th>\n",
       "      <td>F29415</td>\n",
       "      <td>3926</td>\n",
       "      <td>C</td>\n",
       "      <td>1.0</td>\n",
       "      <td>2019-09-03 09:55:14</td>\n",
       "      <td>2019-09-03</td>\n",
       "      <td>2019-09-03 00:00:00</td>\n",
       "      <td>2019-10-03</td>\n",
       "      <td>2019-09-03</td>\n",
       "      <td>1550.0</td>\n",
       "      <td>0.0</td>\n",
       "      <td>0.0</td>\n",
       "    </tr>\n",
       "    <tr>\n",
       "      <th>2</th>\n",
       "      <td>F29416</td>\n",
       "      <td>3926</td>\n",
       "      <td>C</td>\n",
       "      <td>1.0</td>\n",
       "      <td>2019-09-03 13:25:33</td>\n",
       "      <td>2019-09-03</td>\n",
       "      <td>2019-09-03 00:00:00</td>\n",
       "      <td>2019-10-03</td>\n",
       "      <td>2019-09-03</td>\n",
       "      <td>1550.0</td>\n",
       "      <td>0.0</td>\n",
       "      <td>0.0</td>\n",
       "    </tr>\n",
       "  </tbody>\n",
       "</table>\n",
       "</div>"
      ],
      "text/plain": [
       "  CVE_DOC    CVE_CLPV STATUS  CVE_VEND           FECHAELAB  FECHA_DOC  \\\n",
       "0  F29414        2465      C       1.0 2019-09-03 08:58:42 2019-09-03   \n",
       "1  F29415        3926      C       1.0 2019-09-03 09:55:14 2019-09-03   \n",
       "2  F29416        3926      C       1.0 2019-09-03 13:25:33 2019-09-03   \n",
       "\n",
       "             FECHA_ENT  FECHA_VEN FECHA_CANCELA  CAN_TOT  DES_TOT  DES_FIN  \n",
       "0  2019-09-03 00:00:00 2019-09-18    2019-09-04   3980.0      0.0      0.0  \n",
       "1  2019-09-03 00:00:00 2019-10-03    2019-09-03   1550.0      0.0      0.0  \n",
       "2  2019-09-03 00:00:00 2019-10-03    2019-09-03   1550.0      0.0      0.0  "
      ]
     },
     "execution_count": 4,
     "metadata": {},
     "output_type": "execute_result"
    }
   ],
   "source": [
    "datadf=pd.read_excel(\"Datos de Facturación.xlsx\")\n",
    "datadf.head(3)"
   ]
  },
  {
   "cell_type": "code",
   "execution_count": 5,
   "metadata": {},
   "outputs": [],
   "source": [
    "#Realizamos nuestra copia\n",
    "df1=datadf.copy()"
   ]
  },
  {
   "cell_type": "code",
   "execution_count": 6,
   "metadata": {},
   "outputs": [
    {
     "data": {
      "text/plain": [
       "CVE_DOC              5\n",
       "CVE_CLPV             0\n",
       "STATUS               9\n",
       "CVE_VEND            48\n",
       "FECHAELAB            2\n",
       "FECHA_DOC            1\n",
       "FECHA_ENT            2\n",
       "FECHA_VEN            0\n",
       "FECHA_CANCELA    10537\n",
       "CAN_TOT              6\n",
       "DES_TOT              1\n",
       "DES_FIN              3\n",
       "dtype: int64"
      ]
     },
     "execution_count": 6,
     "metadata": {},
     "output_type": "execute_result"
    }
   ],
   "source": [
    "#Checamos valores faltantes\n",
    "vn=df1.isnull().sum()\n",
    "vn"
   ]
  },
  {
   "cell_type": "markdown",
   "metadata": {},
   "source": []
  },
  {
   "cell_type": "code",
   "execution_count": 10,
   "metadata": {},
   "outputs": [
    {
     "name": "stderr",
     "output_type": "stream",
     "text": [
      "/var/folders/19/7c2smbhs6b3g5ffy1ph3r__m0000gn/T/ipykernel_52923/2374471095.py:1: FutureWarning: Series.fillna with 'method' is deprecated and will raise in a future version. Use obj.ffill() or obj.bfill() instead.\n",
      "  df1[\"CVE_DOC\"]=df1[\"CVE_DOC\"].fillna(method=\"ffill\")\n"
     ]
    },
    {
     "data": {
      "text/plain": [
       "CVE_DOC           0\n",
       "CVE_CLPV          0\n",
       "STATUS            9\n",
       "CVE_VEND         48\n",
       "FECHAELAB         2\n",
       "FECHA_DOC         1\n",
       "FECHA_ENT         2\n",
       "FECHA_VEN         0\n",
       "FECHA_CANCELA     0\n",
       "CAN_TOT           6\n",
       "DES_TOT           1\n",
       "DES_FIN           3\n",
       "dtype: int64"
      ]
     },
     "execution_count": 10,
     "metadata": {},
     "output_type": "execute_result"
    }
   ],
   "source": [
    "df1[\"CVE_DOC\"]=df1[\"CVE_DOC\"].fillna(method=\"ffill\")\n",
    "vn=df1.isnull().sum()\n",
    "vn"
   ]
  },
  {
   "cell_type": "code",
   "execution_count": 12,
   "metadata": {},
   "outputs": [
    {
     "data": {
      "text/plain": [
       "CVE_DOC           0\n",
       "CVE_CLPV          0\n",
       "STATUS            0\n",
       "CVE_VEND         48\n",
       "FECHAELAB         2\n",
       "FECHA_DOC         1\n",
       "FECHA_ENT         2\n",
       "FECHA_VEN         0\n",
       "FECHA_CANCELA     0\n",
       "CAN_TOT           6\n",
       "DES_TOT           1\n",
       "DES_FIN           3\n",
       "dtype: int64"
      ]
     },
     "execution_count": 12,
     "metadata": {},
     "output_type": "execute_result"
    }
   ],
   "source": [
    "df1[\"STATUS\"]=df1[\"STATUS\"].fillna(\"E\")\n",
    "vn=df1.isnull().sum()\n",
    "vn"
   ]
  },
  {
   "cell_type": "code",
   "execution_count": 13,
   "metadata": {},
   "outputs": [
    {
     "data": {
      "text/plain": [
       "CVE_DOC          0\n",
       "CVE_CLPV         0\n",
       "STATUS           0\n",
       "CVE_VEND         0\n",
       "FECHAELAB        2\n",
       "FECHA_DOC        1\n",
       "FECHA_ENT        2\n",
       "FECHA_VEN        0\n",
       "FECHA_CANCELA    0\n",
       "CAN_TOT          6\n",
       "DES_TOT          1\n",
       "DES_FIN          3\n",
       "dtype: int64"
      ]
     },
     "execution_count": 13,
     "metadata": {},
     "output_type": "execute_result"
    }
   ],
   "source": [
    "df1[\"CVE_VEND\"]=df1[\"CVE_VEND\"].fillna(round(datadf[\"CVE_VEND\"].mean(),1))\n",
    "vn=df1.isnull().sum()\n",
    "vn"
   ]
  },
  {
   "cell_type": "code",
   "execution_count": 14,
   "metadata": {},
   "outputs": [
    {
     "name": "stderr",
     "output_type": "stream",
     "text": [
      "/var/folders/19/7c2smbhs6b3g5ffy1ph3r__m0000gn/T/ipykernel_52923/3775510817.py:1: FutureWarning: Series.fillna with 'method' is deprecated and will raise in a future version. Use obj.ffill() or obj.bfill() instead.\n",
      "  df1[\"FECHAELAB\"]=df1[\"FECHAELAB\"].fillna(method=\"ffill\")\n"
     ]
    },
    {
     "data": {
      "text/plain": [
       "CVE_DOC          0\n",
       "CVE_CLPV         0\n",
       "STATUS           0\n",
       "CVE_VEND         0\n",
       "FECHAELAB        0\n",
       "FECHA_DOC        1\n",
       "FECHA_ENT        2\n",
       "FECHA_VEN        0\n",
       "FECHA_CANCELA    0\n",
       "CAN_TOT          6\n",
       "DES_TOT          1\n",
       "DES_FIN          3\n",
       "dtype: int64"
      ]
     },
     "execution_count": 14,
     "metadata": {},
     "output_type": "execute_result"
    }
   ],
   "source": [
    "df1[\"FECHAELAB\"]=df1[\"FECHAELAB\"].fillna(method=\"ffill\")\n",
    "vn=df1.isnull().sum()\n",
    "vn"
   ]
  },
  {
   "cell_type": "code",
   "execution_count": 18,
   "metadata": {},
   "outputs": [
    {
     "name": "stderr",
     "output_type": "stream",
     "text": [
      "/var/folders/19/7c2smbhs6b3g5ffy1ph3r__m0000gn/T/ipykernel_52923/2752470135.py:1: FutureWarning: Series.fillna with 'method' is deprecated and will raise in a future version. Use obj.ffill() or obj.bfill() instead.\n",
      "  df1[\"FECHA_DOC\"]=df1[\"FECHA_DOC\"].fillna(method=\"bfill\")\n"
     ]
    },
    {
     "data": {
      "text/plain": [
       "CVE_DOC          0\n",
       "CVE_CLPV         0\n",
       "STATUS           0\n",
       "CVE_VEND         0\n",
       "FECHAELAB        0\n",
       "FECHA_DOC        0\n",
       "FECHA_ENT        2\n",
       "FECHA_VEN        0\n",
       "FECHA_CANCELA    0\n",
       "CAN_TOT          6\n",
       "DES_TOT          1\n",
       "DES_FIN          3\n",
       "FECHAE_DOC       0\n",
       "dtype: int64"
      ]
     },
     "execution_count": 18,
     "metadata": {},
     "output_type": "execute_result"
    }
   ],
   "source": [
    "df1[\"FECHA_DOC\"]=df1[\"FECHA_DOC\"].fillna(method=\"bfill\")\n",
    "vn=df1.isnull().sum()\n",
    "vn"
   ]
  },
  {
   "cell_type": "code",
   "execution_count": 19,
   "metadata": {},
   "outputs": [
    {
     "name": "stderr",
     "output_type": "stream",
     "text": [
      "/var/folders/19/7c2smbhs6b3g5ffy1ph3r__m0000gn/T/ipykernel_52923/4119944851.py:1: FutureWarning: Series.fillna with 'method' is deprecated and will raise in a future version. Use obj.ffill() or obj.bfill() instead.\n",
      "  df1[\"FECHA_ENT\"]=df1[\"FECHA_ENT\"].fillna(method=\"ffill\")\n"
     ]
    },
    {
     "data": {
      "text/plain": [
       "CVE_DOC          0\n",
       "CVE_CLPV         0\n",
       "STATUS           0\n",
       "CVE_VEND         0\n",
       "FECHAELAB        0\n",
       "FECHA_DOC        0\n",
       "FECHA_ENT        0\n",
       "FECHA_VEN        0\n",
       "FECHA_CANCELA    0\n",
       "CAN_TOT          6\n",
       "DES_TOT          1\n",
       "DES_FIN          3\n",
       "FECHAE_DOC       0\n",
       "dtype: int64"
      ]
     },
     "execution_count": 19,
     "metadata": {},
     "output_type": "execute_result"
    }
   ],
   "source": [
    "df1[\"FECHA_ENT\"]=df1[\"FECHA_ENT\"].fillna(method=\"ffill\")\n",
    "vn=df1.isnull().sum()\n",
    "vn"
   ]
  },
  {
   "cell_type": "code",
   "execution_count": 20,
   "metadata": {},
   "outputs": [
    {
     "data": {
      "text/plain": [
       "CVE_DOC          0\n",
       "CVE_CLPV         0\n",
       "STATUS           0\n",
       "CVE_VEND         0\n",
       "FECHAELAB        0\n",
       "FECHA_DOC        0\n",
       "FECHA_ENT        0\n",
       "FECHA_VEN        0\n",
       "FECHA_CANCELA    0\n",
       "CAN_TOT          6\n",
       "DES_TOT          1\n",
       "DES_FIN          3\n",
       "FECHAE_DOC       0\n",
       "dtype: int64"
      ]
     },
     "execution_count": 20,
     "metadata": {},
     "output_type": "execute_result"
    }
   ],
   "source": [
    "df1[\"FECHA_CANCELA\"]=df1[\"FECHA_CANCELA\"].fillna(\"N/A\")\n",
    "vn=df1.isnull().sum()\n",
    "vn"
   ]
  },
  {
   "cell_type": "code",
   "execution_count": 22,
   "metadata": {},
   "outputs": [
    {
     "data": {
      "text/plain": [
       "CVE_DOC          0\n",
       "CVE_CLPV         0\n",
       "STATUS           0\n",
       "CVE_VEND         0\n",
       "FECHAELAB        0\n",
       "FECHA_DOC        0\n",
       "FECHA_ENT        0\n",
       "FECHA_VEN        0\n",
       "FECHA_CANCELA    0\n",
       "CAN_TOT          0\n",
       "DES_TOT          1\n",
       "DES_FIN          3\n",
       "FECHAE_DOC       0\n",
       "dtype: int64"
      ]
     },
     "execution_count": 22,
     "metadata": {},
     "output_type": "execute_result"
    }
   ],
   "source": [
    "df1[\"CAN_TOT\"]=df1[\"CAN_TOT\"].fillna(round(datadf[\"CAN_TOT\"].mean(),1))\n",
    "vn=df1.isnull().sum()\n",
    "vn\n"
   ]
  },
  {
   "cell_type": "code",
   "execution_count": 23,
   "metadata": {},
   "outputs": [
    {
     "data": {
      "text/plain": [
       "CVE_DOC          0\n",
       "CVE_CLPV         0\n",
       "STATUS           0\n",
       "CVE_VEND         0\n",
       "FECHAELAB        0\n",
       "FECHA_DOC        0\n",
       "FECHA_ENT        0\n",
       "FECHA_VEN        0\n",
       "FECHA_CANCELA    0\n",
       "CAN_TOT          0\n",
       "DES_TOT          0\n",
       "DES_FIN          3\n",
       "FECHAE_DOC       0\n",
       "dtype: int64"
      ]
     },
     "execution_count": 23,
     "metadata": {},
     "output_type": "execute_result"
    }
   ],
   "source": [
    "df1[\"DES_TOT\"]=df1[\"DES_TOT\"].fillna(round(datadf[\"DES_TOT\"].mean(),1))\n",
    "vn=df1.isnull().sum()\n",
    "vn\n"
   ]
  },
  {
   "cell_type": "code",
   "execution_count": 24,
   "metadata": {},
   "outputs": [
    {
     "data": {
      "text/plain": [
       "CVE_DOC          0\n",
       "CVE_CLPV         0\n",
       "STATUS           0\n",
       "CVE_VEND         0\n",
       "FECHAELAB        0\n",
       "FECHA_DOC        0\n",
       "FECHA_ENT        0\n",
       "FECHA_VEN        0\n",
       "FECHA_CANCELA    0\n",
       "CAN_TOT          0\n",
       "DES_TOT          0\n",
       "DES_FIN          0\n",
       "FECHAE_DOC       0\n",
       "dtype: int64"
      ]
     },
     "execution_count": 24,
     "metadata": {},
     "output_type": "execute_result"
    }
   ],
   "source": [
    "df1[\"DES_FIN\"]=df1[\"DES_FIN\"].fillna(round(datadf[\"DES_FIN\"].mean(),1))\n",
    "vn=df1.isnull().sum()\n",
    "vn\n"
   ]
  },
  {
   "cell_type": "code",
   "execution_count": 25,
   "metadata": {},
   "outputs": [],
   "source": [
    "#Guardamos\n",
    "df1.to_csv(\"DatosFac.csv\")"
   ]
  }
 ],
 "metadata": {
  "kernelspec": {
   "display_name": "Python 3",
   "language": "python",
   "name": "python3"
  },
  "language_info": {
   "codemirror_mode": {
    "name": "ipython",
    "version": 3
   },
   "file_extension": ".py",
   "mimetype": "text/x-python",
   "name": "python",
   "nbconvert_exporter": "python",
   "pygments_lexer": "ipython3",
   "version": "3.12.4"
  }
 },
 "nbformat": 4,
 "nbformat_minor": 2
}
