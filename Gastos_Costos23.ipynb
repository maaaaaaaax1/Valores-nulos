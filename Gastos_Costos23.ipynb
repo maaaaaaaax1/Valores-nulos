{
 "cells": [
  {
   "cell_type": "code",
   "execution_count": 1,
   "metadata": {},
   "outputs": [],
   "source": [
    "#importamos librerias\n",
    "import pandas as pd\n",
    "import numpy as np\n",
    "import matplotlib.pyplot as plt"
   ]
  },
  {
   "cell_type": "code",
   "execution_count": 3,
   "metadata": {},
   "outputs": [
    {
     "data": {
      "text/html": [
       "<div>\n",
       "<style scoped>\n",
       "    .dataframe tbody tr th:only-of-type {\n",
       "        vertical-align: middle;\n",
       "    }\n",
       "\n",
       "    .dataframe tbody tr th {\n",
       "        vertical-align: top;\n",
       "    }\n",
       "\n",
       "    .dataframe thead th {\n",
       "        text-align: right;\n",
       "    }\n",
       "</style>\n",
       "<table border=\"1\" class=\"dataframe\">\n",
       "  <thead>\n",
       "    <tr style=\"text-align: right;\">\n",
       "      <th></th>\n",
       "      <th>Fecha</th>\n",
       "      <th>Folio</th>\n",
       "      <th>UUID</th>\n",
       "      <th>RFC</th>\n",
       "      <th>Proveedor</th>\n",
       "      <th>TIPO GASTO</th>\n",
       "      <th>Descripción</th>\n",
       "      <th>MP</th>\n",
       "      <th>FP</th>\n",
       "      <th>TC</th>\n",
       "      <th>Importe</th>\n",
       "      <th>IVA</th>\n",
       "      <th>RET ISR</th>\n",
       "      <th>RET IVA</th>\n",
       "      <th>Otros</th>\n",
       "      <th>TOTAL MX</th>\n",
       "      <th>TOTAL SAT</th>\n",
       "      <th>Tipo</th>\n",
       "      <th>Status</th>\n",
       "      <th>Poliza</th>\n",
       "    </tr>\n",
       "  </thead>\n",
       "  <tbody>\n",
       "    <tr>\n",
       "      <th>0</th>\n",
       "      <td>2023-01-01</td>\n",
       "      <td>31</td>\n",
       "      <td>49536321-60A4-523E-A32F-E8BDF5C2276E</td>\n",
       "      <td>AAE6411055P8</td>\n",
       "      <td>AESA ARTICULOS ELECTRICOS</td>\n",
       "      <td>COMPRAS</td>\n",
       "      <td>Pago</td>\n",
       "      <td>NaN</td>\n",
       "      <td>NaN</td>\n",
       "      <td>1.0</td>\n",
       "      <td>0.00</td>\n",
       "      <td>0.00</td>\n",
       "      <td>0.0</td>\n",
       "      <td>0.0</td>\n",
       "      <td>NaN</td>\n",
       "      <td>0.0</td>\n",
       "      <td>0.0</td>\n",
       "      <td>P</td>\n",
       "      <td>Vigente</td>\n",
       "      <td>NaN</td>\n",
       "    </tr>\n",
       "    <tr>\n",
       "      <th>1</th>\n",
       "      <td>2023-01-01</td>\n",
       "      <td>38</td>\n",
       "      <td>20FBB63B-D550-512F-9668-EEC6F983CEB7</td>\n",
       "      <td>AAE6411055P8</td>\n",
       "      <td>AESA ARTICULOS ELECTRICOS</td>\n",
       "      <td>COMPRAS</td>\n",
       "      <td>Pago</td>\n",
       "      <td>NaN</td>\n",
       "      <td>NaN</td>\n",
       "      <td>1.0</td>\n",
       "      <td>0.00</td>\n",
       "      <td>0.00</td>\n",
       "      <td>0.0</td>\n",
       "      <td>0.0</td>\n",
       "      <td>NaN</td>\n",
       "      <td>0.0</td>\n",
       "      <td>0.0</td>\n",
       "      <td>P</td>\n",
       "      <td>Vigente</td>\n",
       "      <td>NaN</td>\n",
       "    </tr>\n",
       "    <tr>\n",
       "      <th>2</th>\n",
       "      <td>2023-01-01</td>\n",
       "      <td>341932</td>\n",
       "      <td>DB8C4388-D4E0-4F0C-A09C-77C773257F44</td>\n",
       "      <td>BLE1512082R9</td>\n",
       "      <td>BEPENSA LEASING S.A. DE C.V.</td>\n",
       "      <td>ARRENDAMIENTO FINANCIERO</td>\n",
       "      <td>AA RENTA EXIGIBLE CL0000006876 30/36 de 03/12/...</td>\n",
       "      <td>PPD</td>\n",
       "      <td>99.0</td>\n",
       "      <td>1.0</td>\n",
       "      <td>5551.38</td>\n",
       "      <td>888.22</td>\n",
       "      <td>0.0</td>\n",
       "      <td>0.0</td>\n",
       "      <td>NaN</td>\n",
       "      <td>6439.6</td>\n",
       "      <td>6439.6</td>\n",
       "      <td>I</td>\n",
       "      <td>Vigente</td>\n",
       "      <td>PE01-ENE23</td>\n",
       "    </tr>\n",
       "  </tbody>\n",
       "</table>\n",
       "</div>"
      ],
      "text/plain": [
       "       Fecha   Folio                                  UUID           RFC  \\\n",
       "0 2023-01-01      31  49536321-60A4-523E-A32F-E8BDF5C2276E  AAE6411055P8   \n",
       "1 2023-01-01      38  20FBB63B-D550-512F-9668-EEC6F983CEB7  AAE6411055P8   \n",
       "2 2023-01-01  341932  DB8C4388-D4E0-4F0C-A09C-77C773257F44  BLE1512082R9   \n",
       "\n",
       "                      Proveedor                TIPO GASTO  \\\n",
       "0     AESA ARTICULOS ELECTRICOS                   COMPRAS   \n",
       "1     AESA ARTICULOS ELECTRICOS                   COMPRAS   \n",
       "2  BEPENSA LEASING S.A. DE C.V.  ARRENDAMIENTO FINANCIERO   \n",
       "\n",
       "                                         Descripción   MP    FP   TC  Importe  \\\n",
       "0                                               Pago  NaN   NaN  1.0     0.00   \n",
       "1                                               Pago  NaN   NaN  1.0     0.00   \n",
       "2  AA RENTA EXIGIBLE CL0000006876 30/36 de 03/12/...  PPD  99.0  1.0  5551.38   \n",
       "\n",
       "      IVA  RET ISR  RET IVA  Otros  TOTAL MX  TOTAL SAT Tipo   Status  \\\n",
       "0    0.00      0.0      0.0    NaN       0.0        0.0    P  Vigente   \n",
       "1    0.00      0.0      0.0    NaN       0.0        0.0    P  Vigente   \n",
       "2  888.22      0.0      0.0    NaN    6439.6     6439.6    I  Vigente   \n",
       "\n",
       "       Poliza  \n",
       "0         NaN  \n",
       "1         NaN  \n",
       "2  PE01-ENE23  "
      ]
     },
     "execution_count": 3,
     "metadata": {},
     "output_type": "execute_result"
    }
   ],
   "source": [
    "datadf=pd.read_excel(\"Gastos y costos 20-23.xlsx\",skiprows=3,sheet_name='2023')\n",
    "datadf.head(3)"
   ]
  },
  {
   "cell_type": "code",
   "execution_count": 4,
   "metadata": {},
   "outputs": [],
   "source": [
    "#Comenzamos la limpieza de la primer hoja, realizando una copia de nuestro data frame primero\n",
    "df4=datadf.copy()"
   ]
  },
  {
   "cell_type": "code",
   "execution_count": 5,
   "metadata": {},
   "outputs": [
    {
     "data": {
      "text/plain": [
       "Fecha            0\n",
       "Folio           13\n",
       "UUID             0\n",
       "RFC              0\n",
       "Proveedor        0\n",
       "TIPO GASTO       8\n",
       "Descripción      0\n",
       "MP              71\n",
       "FP              71\n",
       "TC               0\n",
       "Importe          0\n",
       "IVA              0\n",
       "RET ISR          0\n",
       "RET IVA          0\n",
       "Otros          397\n",
       "TOTAL MX         0\n",
       "TOTAL SAT        0\n",
       "Tipo             0\n",
       "Status           0\n",
       "Poliza         115\n",
       "dtype: int64"
      ]
     },
     "execution_count": 5,
     "metadata": {},
     "output_type": "execute_result"
    }
   ],
   "source": [
    "#veamos\n",
    "vn=df4.isnull().sum()\n",
    "vn"
   ]
  },
  {
   "cell_type": "markdown",
   "metadata": {},
   "source": [
    "***Procedemos a trabajar como antes***"
   ]
  },
  {
   "cell_type": "code",
   "execution_count": 7,
   "metadata": {},
   "outputs": [
    {
     "data": {
      "text/plain": [
       "Fecha            0\n",
       "Folio            0\n",
       "UUID             0\n",
       "RFC              0\n",
       "Proveedor        0\n",
       "TIPO GASTO       8\n",
       "Descripción      0\n",
       "MP              71\n",
       "FP              71\n",
       "TC               0\n",
       "Importe          0\n",
       "IVA              0\n",
       "RET ISR          0\n",
       "RET IVA          0\n",
       "Otros          397\n",
       "TOTAL MX         0\n",
       "TOTAL SAT        0\n",
       "Tipo             0\n",
       "Status           0\n",
       "Poliza         115\n",
       "dtype: int64"
      ]
     },
     "execution_count": 7,
     "metadata": {},
     "output_type": "execute_result"
    }
   ],
   "source": [
    "df4[\"Folio\"]=df4[\"Folio\"].fillna(\"N/A\")\n",
    "vn=df4.isnull().sum()\n",
    "vn"
   ]
  },
  {
   "cell_type": "code",
   "execution_count": 11,
   "metadata": {},
   "outputs": [
    {
     "name": "stderr",
     "output_type": "stream",
     "text": [
      "/var/folders/19/7c2smbhs6b3g5ffy1ph3r__m0000gn/T/ipykernel_52452/4152747155.py:1: FutureWarning: Series.fillna with 'method' is deprecated and will raise in a future version. Use obj.ffill() or obj.bfill() instead.\n",
      "  df4[\"MP\"]=df4[\"MP\"].fillna(method=\"ffill\")\n"
     ]
    },
    {
     "data": {
      "text/plain": [
       "Fecha            0\n",
       "Folio            0\n",
       "UUID             0\n",
       "RFC              0\n",
       "Proveedor        0\n",
       "TIPO GASTO       8\n",
       "Descripción      0\n",
       "MP               0\n",
       "FP               0\n",
       "TC               0\n",
       "Importe          0\n",
       "IVA              0\n",
       "RET ISR          0\n",
       "RET IVA          0\n",
       "Otros          397\n",
       "TOTAL MX         0\n",
       "TOTAL SAT        0\n",
       "Tipo             0\n",
       "Status           0\n",
       "Poliza         115\n",
       "dtype: int64"
      ]
     },
     "execution_count": 11,
     "metadata": {},
     "output_type": "execute_result"
    }
   ],
   "source": [
    "df4[\"MP\"]=df4[\"MP\"].fillna(method=\"ffill\")\n",
    "vn=df4.isnull().sum()\n",
    "vn"
   ]
  },
  {
   "cell_type": "code",
   "execution_count": 10,
   "metadata": {},
   "outputs": [
    {
     "name": "stderr",
     "output_type": "stream",
     "text": [
      "/var/folders/19/7c2smbhs6b3g5ffy1ph3r__m0000gn/T/ipykernel_52452/2088341169.py:1: FutureWarning: Series.fillna with 'method' is deprecated and will raise in a future version. Use obj.ffill() or obj.bfill() instead.\n",
      "  df4[\"FP\"]=df4[\"FP\"].fillna(method=\"bfill\")\n"
     ]
    },
    {
     "data": {
      "text/plain": [
       "Fecha            0\n",
       "Folio            0\n",
       "UUID             0\n",
       "RFC              0\n",
       "Proveedor        0\n",
       "TIPO GASTO       8\n",
       "Descripción      0\n",
       "MP               1\n",
       "FP               0\n",
       "TC               0\n",
       "Importe          0\n",
       "IVA              0\n",
       "RET ISR          0\n",
       "RET IVA          0\n",
       "Otros          397\n",
       "TOTAL MX         0\n",
       "TOTAL SAT        0\n",
       "Tipo             0\n",
       "Status           0\n",
       "Poliza         115\n",
       "dtype: int64"
      ]
     },
     "execution_count": 10,
     "metadata": {},
     "output_type": "execute_result"
    }
   ],
   "source": [
    "df4[\"FP\"]=df4[\"FP\"].fillna(method=\"bfill\")\n",
    "vn=df4.isnull().sum()\n",
    "vn"
   ]
  },
  {
   "cell_type": "code",
   "execution_count": 12,
   "metadata": {},
   "outputs": [
    {
     "data": {
      "text/plain": [
       "Fecha            0\n",
       "Folio            0\n",
       "UUID             0\n",
       "RFC              0\n",
       "Proveedor        0\n",
       "TIPO GASTO       0\n",
       "Descripción      0\n",
       "MP               0\n",
       "FP               0\n",
       "TC               0\n",
       "Importe          0\n",
       "IVA              0\n",
       "RET ISR          0\n",
       "RET IVA          0\n",
       "Otros          397\n",
       "TOTAL MX         0\n",
       "TOTAL SAT        0\n",
       "Tipo             0\n",
       "Status           0\n",
       "Poliza         115\n",
       "dtype: int64"
      ]
     },
     "execution_count": 12,
     "metadata": {},
     "output_type": "execute_result"
    }
   ],
   "source": [
    "df4[\"TIPO GASTO\"]=df4[\"TIPO GASTO\"].fillna(\"Sin especificar\")\n",
    "vn=df4.isnull().sum()\n",
    "vn"
   ]
  },
  {
   "cell_type": "code",
   "execution_count": 13,
   "metadata": {},
   "outputs": [
    {
     "data": {
      "text/plain": [
       "Fecha            0\n",
       "Folio            0\n",
       "UUID             0\n",
       "RFC              0\n",
       "Proveedor        0\n",
       "TIPO GASTO       0\n",
       "Descripción      0\n",
       "MP               0\n",
       "FP               0\n",
       "TC               0\n",
       "Importe          0\n",
       "IVA              0\n",
       "RET ISR          0\n",
       "RET IVA          0\n",
       "Otros            0\n",
       "TOTAL MX         0\n",
       "TOTAL SAT        0\n",
       "Tipo             0\n",
       "Status           0\n",
       "Poliza         115\n",
       "dtype: int64"
      ]
     },
     "execution_count": 13,
     "metadata": {},
     "output_type": "execute_result"
    }
   ],
   "source": [
    "df4[\"Otros\"]=df4[\"Otros\"].fillna(\"0\")\n",
    "vn=df4.isnull().sum()\n",
    "vn"
   ]
  },
  {
   "cell_type": "code",
   "execution_count": 14,
   "metadata": {},
   "outputs": [
    {
     "data": {
      "text/plain": [
       "Fecha          0\n",
       "Folio          0\n",
       "UUID           0\n",
       "RFC            0\n",
       "Proveedor      0\n",
       "TIPO GASTO     0\n",
       "Descripción    0\n",
       "MP             0\n",
       "FP             0\n",
       "TC             0\n",
       "Importe        0\n",
       "IVA            0\n",
       "RET ISR        0\n",
       "RET IVA        0\n",
       "Otros          0\n",
       "TOTAL MX       0\n",
       "TOTAL SAT      0\n",
       "Tipo           0\n",
       "Status         0\n",
       "Poliza         0\n",
       "dtype: int64"
      ]
     },
     "execution_count": 14,
     "metadata": {},
     "output_type": "execute_result"
    }
   ],
   "source": [
    "df4[\"Poliza\"]=df4[\"Poliza\"].fillna(\"N/A\")\n",
    "vn=df4.isnull().sum()\n",
    "vn"
   ]
  },
  {
   "cell_type": "code",
   "execution_count": 15,
   "metadata": {},
   "outputs": [],
   "source": [
    "#Guardamos\n",
    "df4.to_csv(\"GyC23.csv\")"
   ]
  }
 ],
 "metadata": {
  "kernelspec": {
   "display_name": "Python 3",
   "language": "python",
   "name": "python3"
  },
  "language_info": {
   "codemirror_mode": {
    "name": "ipython",
    "version": 3
   },
   "file_extension": ".py",
   "mimetype": "text/x-python",
   "name": "python",
   "nbconvert_exporter": "python",
   "pygments_lexer": "ipython3",
   "version": "3.12.4"
  }
 },
 "nbformat": 4,
 "nbformat_minor": 2
}
