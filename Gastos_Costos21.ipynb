{
 "cells": [
  {
   "cell_type": "code",
   "execution_count": 2,
   "metadata": {},
   "outputs": [],
   "source": [
    "#importamos librerias\n",
    "import pandas as pd\n",
    "import numpy as np\n",
    "import matplotlib.pyplot as plt"
   ]
  },
  {
   "cell_type": "code",
   "execution_count": 6,
   "metadata": {},
   "outputs": [
    {
     "data": {
      "text/html": [
       "<div>\n",
       "<style scoped>\n",
       "    .dataframe tbody tr th:only-of-type {\n",
       "        vertical-align: middle;\n",
       "    }\n",
       "\n",
       "    .dataframe tbody tr th {\n",
       "        vertical-align: top;\n",
       "    }\n",
       "\n",
       "    .dataframe thead th {\n",
       "        text-align: right;\n",
       "    }\n",
       "</style>\n",
       "<table border=\"1\" class=\"dataframe\">\n",
       "  <thead>\n",
       "    <tr style=\"text-align: right;\">\n",
       "      <th></th>\n",
       "      <th>FECHA</th>\n",
       "      <th>FOLIO</th>\n",
       "      <th>UUID</th>\n",
       "      <th>RFC</th>\n",
       "      <th>PROVEEDOR</th>\n",
       "      <th>TIPO GASTO</th>\n",
       "      <th>DESCRIPCION</th>\n",
       "      <th>MP</th>\n",
       "      <th>TC</th>\n",
       "      <th>IMPORTE</th>\n",
       "      <th>IVA</th>\n",
       "      <th>RET ISR</th>\n",
       "      <th>RET IVA</th>\n",
       "      <th>TOTAL MX</th>\n",
       "      <th>TOTAL SAT</th>\n",
       "      <th>TIPO</th>\n",
       "      <th>STATUS</th>\n",
       "      <th>POLIZA</th>\n",
       "    </tr>\n",
       "  </thead>\n",
       "  <tbody>\n",
       "    <tr>\n",
       "      <th>0</th>\n",
       "      <td>2021-01-01</td>\n",
       "      <td>0001010100750847116902</td>\n",
       "      <td>71B4C8B9-8DAA-47CC-AD47-9DD90AA5AF6B</td>\n",
       "      <td>BNM840515VB1</td>\n",
       "      <td>BANCO NACIONAL DE MEXICO, S.A.</td>\n",
       "      <td>COMISION BANCARIA</td>\n",
       "      <td>COMISION COBRADA</td>\n",
       "      <td>PUE</td>\n",
       "      <td>1.0</td>\n",
       "      <td>490.00</td>\n",
       "      <td>78.40</td>\n",
       "      <td>0.0</td>\n",
       "      <td>0.0</td>\n",
       "      <td>568.4</td>\n",
       "      <td>568.4</td>\n",
       "      <td>I</td>\n",
       "      <td>Vigente</td>\n",
       "      <td>0</td>\n",
       "    </tr>\n",
       "    <tr>\n",
       "      <th>1</th>\n",
       "      <td>2021-01-01</td>\n",
       "      <td>0001010100752163714102</td>\n",
       "      <td>B8AEDE83-CC76-404C-A611-6B5A87BA561F</td>\n",
       "      <td>BNM840515VB1</td>\n",
       "      <td>BANCO NACIONAL DE MEXICO, S.A.</td>\n",
       "      <td>COMISION BANCARIA</td>\n",
       "      <td>COMISION COBRADA</td>\n",
       "      <td>PUE</td>\n",
       "      <td>1.0</td>\n",
       "      <td>345.00</td>\n",
       "      <td>55.20</td>\n",
       "      <td>0.0</td>\n",
       "      <td>0.0</td>\n",
       "      <td>400.2</td>\n",
       "      <td>400.2</td>\n",
       "      <td>I</td>\n",
       "      <td>Vigente</td>\n",
       "      <td>0</td>\n",
       "    </tr>\n",
       "    <tr>\n",
       "      <th>2</th>\n",
       "      <td>2021-01-01</td>\n",
       "      <td>19788</td>\n",
       "      <td>19B9B2C2-DF58-E24D-B43A-3FC4D5A929E7</td>\n",
       "      <td>ESI9612311E7</td>\n",
       "      <td>ELECTRONICOS Y SIMILARES, S.A. DE C.V.</td>\n",
       "      <td>COMPRAS</td>\n",
       "      <td>MOTO E7 PLUS AZUL 64GB 4RAM</td>\n",
       "      <td>PUE</td>\n",
       "      <td>1.0</td>\n",
       "      <td>3447.41</td>\n",
       "      <td>551.59</td>\n",
       "      <td>0.0</td>\n",
       "      <td>0.0</td>\n",
       "      <td>3999.0</td>\n",
       "      <td>3999.0</td>\n",
       "      <td>I</td>\n",
       "      <td>Vigente</td>\n",
       "      <td>0</td>\n",
       "    </tr>\n",
       "  </tbody>\n",
       "</table>\n",
       "</div>"
      ],
      "text/plain": [
       "       FECHA                   FOLIO                                  UUID  \\\n",
       "0 2021-01-01  0001010100750847116902  71B4C8B9-8DAA-47CC-AD47-9DD90AA5AF6B   \n",
       "1 2021-01-01  0001010100752163714102  B8AEDE83-CC76-404C-A611-6B5A87BA561F   \n",
       "2 2021-01-01                   19788  19B9B2C2-DF58-E24D-B43A-3FC4D5A929E7   \n",
       "\n",
       "            RFC                               PROVEEDOR         TIPO GASTO  \\\n",
       "0  BNM840515VB1          BANCO NACIONAL DE MEXICO, S.A.  COMISION BANCARIA   \n",
       "1  BNM840515VB1          BANCO NACIONAL DE MEXICO, S.A.  COMISION BANCARIA   \n",
       "2  ESI9612311E7  ELECTRONICOS Y SIMILARES, S.A. DE C.V.            COMPRAS   \n",
       "\n",
       "                   DESCRIPCION   MP   TC  IMPORTE     IVA  RET ISR  RET IVA  \\\n",
       "0             COMISION COBRADA  PUE  1.0   490.00   78.40      0.0      0.0   \n",
       "1             COMISION COBRADA  PUE  1.0   345.00   55.20      0.0      0.0   \n",
       "2  MOTO E7 PLUS AZUL 64GB 4RAM  PUE  1.0  3447.41  551.59      0.0      0.0   \n",
       "\n",
       "   TOTAL MX  TOTAL SAT TIPO   STATUS POLIZA  \n",
       "0     568.4      568.4    I  Vigente      0  \n",
       "1     400.2      400.2    I  Vigente      0  \n",
       "2    3999.0     3999.0    I  Vigente      0  "
      ]
     },
     "execution_count": 6,
     "metadata": {},
     "output_type": "execute_result"
    }
   ],
   "source": [
    "datadf=pd.read_excel(\"Gastos y costos 20-23.xlsx\",skiprows=3,sheet_name='2021')\n",
    "datadf.head(3)"
   ]
  },
  {
   "cell_type": "code",
   "execution_count": 7,
   "metadata": {},
   "outputs": [],
   "source": [
    "#Comenzamos la limpieza de la primer hoja, realizando una copia de nuestro data frame primero\n",
    "df2=datadf.copy()"
   ]
  },
  {
   "cell_type": "markdown",
   "metadata": {},
   "source": [
    "Echamos un ojo a los valores faltantes, para luego proceder a usar métodos de sustitución para rellenarlos de manera efectiva"
   ]
  },
  {
   "cell_type": "code",
   "execution_count": 8,
   "metadata": {},
   "outputs": [
    {
     "data": {
      "text/plain": [
       "FECHA             0\n",
       "FOLIO           147\n",
       "UUID              0\n",
       "RFC               0\n",
       "PROVEEDOR         0\n",
       "TIPO GASTO        0\n",
       "DESCRIPCION       0\n",
       "MP              654\n",
       "TC                0\n",
       "IMPORTE           0\n",
       "IVA               0\n",
       "RET ISR           0\n",
       "RET IVA           0\n",
       "TOTAL MX          0\n",
       "TOTAL SAT         0\n",
       "TIPO              0\n",
       "STATUS            0\n",
       "POLIZA         2372\n",
       "dtype: int64"
      ]
     },
     "execution_count": 8,
     "metadata": {},
     "output_type": "execute_result"
    }
   ],
   "source": [
    "vn=df2.isnull().sum()\n",
    "vn"
   ]
  },
  {
   "cell_type": "markdown",
   "metadata": {},
   "source": [
    "***Al igual que en la primera hoja, vamos a rellenar los folios faltantes por el método string***"
   ]
  },
  {
   "cell_type": "code",
   "execution_count": 13,
   "metadata": {},
   "outputs": [
    {
     "data": {
      "text/plain": [
       "FECHA          0\n",
       "FOLIO          0\n",
       "UUID           0\n",
       "RFC            0\n",
       "PROVEEDOR      0\n",
       "TIPO GASTO     0\n",
       "DESCRIPCION    0\n",
       "MP             0\n",
       "TC             0\n",
       "IMPORTE        0\n",
       "IVA            0\n",
       "RET ISR        0\n",
       "RET IVA        0\n",
       "TOTAL MX       0\n",
       "TOTAL SAT      0\n",
       "TIPO           0\n",
       "STATUS         0\n",
       "POLIZA         0\n",
       "dtype: int64"
      ]
     },
     "execution_count": 13,
     "metadata": {},
     "output_type": "execute_result"
    }
   ],
   "source": [
    "df2[\"FOLIO\"]=df2[\"FOLIO\"].fillna(\"N/A\")\n",
    "vn=df2.isnull().sum()\n",
    "vn"
   ]
  },
  {
   "cell_type": "markdown",
   "metadata": {},
   "source": [
    "***En la columna MP, se sustituiran los valores nulos por medio del método ffill, declarando los valores nulos iguales al siguiente valor no nulo***|"
   ]
  },
  {
   "cell_type": "code",
   "execution_count": 17,
   "metadata": {},
   "outputs": [
    {
     "name": "stderr",
     "output_type": "stream",
     "text": [
      "/var/folders/19/7c2smbhs6b3g5ffy1ph3r__m0000gn/T/ipykernel_51827/4260985605.py:1: FutureWarning: Series.fillna with 'method' is deprecated and will raise in a future version. Use obj.ffill() or obj.bfill() instead.\n",
      "  df2[\"MP\"]=df2[\"MP\"].fillna(method=\"ffill\")\n"
     ]
    },
    {
     "data": {
      "text/plain": [
       "FECHA          0\n",
       "FOLIO          0\n",
       "UUID           0\n",
       "RFC            0\n",
       "PROVEEDOR      0\n",
       "TIPO GASTO     0\n",
       "DESCRIPCION    0\n",
       "MP             0\n",
       "TC             0\n",
       "IMPORTE        0\n",
       "IVA            0\n",
       "RET ISR        0\n",
       "RET IVA        0\n",
       "TOTAL MX       0\n",
       "TOTAL SAT      0\n",
       "TIPO           0\n",
       "STATUS         0\n",
       "POLIZA         0\n",
       "dtype: int64"
      ]
     },
     "execution_count": 17,
     "metadata": {},
     "output_type": "execute_result"
    }
   ],
   "source": [
    "df2[\"MP\"]=df2[\"MP\"].fillna(method=\"ffill\")\n",
    "vn=df2.isnull().sum()\n",
    "vn"
   ]
  },
  {
   "cell_type": "markdown",
   "metadata": {},
   "source": [
    "***Finalmente, se asumirá que las polizas faltantes son porque no se solicitaron o no se cuenta con estas***"
   ]
  },
  {
   "cell_type": "code",
   "execution_count": 15,
   "metadata": {},
   "outputs": [
    {
     "data": {
      "text/plain": [
       "FECHA          0\n",
       "FOLIO          0\n",
       "UUID           0\n",
       "RFC            0\n",
       "PROVEEDOR      0\n",
       "TIPO GASTO     0\n",
       "DESCRIPCION    0\n",
       "MP             0\n",
       "TC             0\n",
       "IMPORTE        0\n",
       "IVA            0\n",
       "RET ISR        0\n",
       "RET IVA        0\n",
       "TOTAL MX       0\n",
       "TOTAL SAT      0\n",
       "TIPO           0\n",
       "STATUS         0\n",
       "POLIZA         0\n",
       "dtype: int64"
      ]
     },
     "execution_count": 15,
     "metadata": {},
     "output_type": "execute_result"
    }
   ],
   "source": [
    "df2[\"POLIZA\"]=df2[\"POLIZA\"].fillna(\"N/A\")\n",
    "vn=df2.isnull().sum()\n",
    "vn"
   ]
  },
  {
   "cell_type": "code",
   "execution_count": 16,
   "metadata": {},
   "outputs": [],
   "source": [
    "#Guardamos nuestro archivo\n",
    "df2.to_csv(\"GyC21.csv\")"
   ]
  }
 ],
 "metadata": {
  "kernelspec": {
   "display_name": "Python 3",
   "language": "python",
   "name": "python3"
  },
  "language_info": {
   "codemirror_mode": {
    "name": "ipython",
    "version": 3
   },
   "file_extension": ".py",
   "mimetype": "text/x-python",
   "name": "python",
   "nbconvert_exporter": "python",
   "pygments_lexer": "ipython3",
   "version": "3.12.4"
  }
 },
 "nbformat": 4,
 "nbformat_minor": 2
}
