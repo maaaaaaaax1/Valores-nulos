{
 "cells": [
  {
   "cell_type": "code",
   "execution_count": 1,
   "metadata": {},
   "outputs": [],
   "source": [
    "#importamos librerias\n",
    "import pandas as pd\n",
    "import numpy as np\n",
    "import matplotlib.pyplot as plt"
   ]
  },
  {
   "cell_type": "code",
   "execution_count": 3,
   "metadata": {},
   "outputs": [
    {
     "data": {
      "text/html": [
       "<div>\n",
       "<style scoped>\n",
       "    .dataframe tbody tr th:only-of-type {\n",
       "        vertical-align: middle;\n",
       "    }\n",
       "\n",
       "    .dataframe tbody tr th {\n",
       "        vertical-align: top;\n",
       "    }\n",
       "\n",
       "    .dataframe thead th {\n",
       "        text-align: right;\n",
       "    }\n",
       "</style>\n",
       "<table border=\"1\" class=\"dataframe\">\n",
       "  <thead>\n",
       "    <tr style=\"text-align: right;\">\n",
       "      <th></th>\n",
       "      <th>Fecha</th>\n",
       "      <th>Folio</th>\n",
       "      <th>UUID</th>\n",
       "      <th>RFC</th>\n",
       "      <th>Proveedor</th>\n",
       "      <th>TIPO GASTO</th>\n",
       "      <th>Descripción</th>\n",
       "      <th>MP</th>\n",
       "      <th>TC</th>\n",
       "      <th>Importe</th>\n",
       "      <th>IVA</th>\n",
       "      <th>RET ISR</th>\n",
       "      <th>RET IVA</th>\n",
       "      <th>Otros</th>\n",
       "      <th>TOTAL MX</th>\n",
       "      <th>TOTAL SAT</th>\n",
       "      <th>Tipo</th>\n",
       "      <th>Status</th>\n",
       "      <th>Poliza</th>\n",
       "    </tr>\n",
       "  </thead>\n",
       "  <tbody>\n",
       "    <tr>\n",
       "      <th>0</th>\n",
       "      <td>2022-01-01</td>\n",
       "      <td>280108</td>\n",
       "      <td>9DA0E63F-1D47-441F-93D7-C2E05AE4D35E</td>\n",
       "      <td>BLE1512082R9</td>\n",
       "      <td>BEPENSA LEASING S.A. DE C.V.</td>\n",
       "      <td>ARRENDAMIENTO FINANCIERO</td>\n",
       "      <td>AA RENTA EXIGIBLE CL0000006876 18/36 de 03/12/...</td>\n",
       "      <td>PPD</td>\n",
       "      <td>1.0</td>\n",
       "      <td>5551.38</td>\n",
       "      <td>888.22</td>\n",
       "      <td>0.0</td>\n",
       "      <td>0.0</td>\n",
       "      <td>NaN</td>\n",
       "      <td>6439.6</td>\n",
       "      <td>6439.6</td>\n",
       "      <td>I</td>\n",
       "      <td>Vigente</td>\n",
       "      <td>PE02-ENE22</td>\n",
       "    </tr>\n",
       "    <tr>\n",
       "      <th>1</th>\n",
       "      <td>2022-01-01</td>\n",
       "      <td>280109</td>\n",
       "      <td>7E00E776-A839-4D57-B291-411109164B2F</td>\n",
       "      <td>BLE1512082R9</td>\n",
       "      <td>BEPENSA LEASING S.A. DE C.V.</td>\n",
       "      <td>ARRENDAMIENTO FINANCIERO</td>\n",
       "      <td>AA RENTA EXIGIBLE CL0000006877 18/36 de 03/12/...</td>\n",
       "      <td>PPD</td>\n",
       "      <td>1.0</td>\n",
       "      <td>5551.98</td>\n",
       "      <td>888.32</td>\n",
       "      <td>0.0</td>\n",
       "      <td>0.0</td>\n",
       "      <td>NaN</td>\n",
       "      <td>6440.3</td>\n",
       "      <td>6440.3</td>\n",
       "      <td>I</td>\n",
       "      <td>Vigente</td>\n",
       "      <td>PE03-ENE22</td>\n",
       "    </tr>\n",
       "    <tr>\n",
       "      <th>2</th>\n",
       "      <td>2022-01-01</td>\n",
       "      <td>007817297284</td>\n",
       "      <td>BB6585C1-3B54-4130-AFD0-1867C3764821</td>\n",
       "      <td>BNM840515VB1</td>\n",
       "      <td>BANCO NACIONAL DE MEXICO, S.A.</td>\n",
       "      <td>COMISION BANCARIA</td>\n",
       "      <td>Servicios de Facturación</td>\n",
       "      <td>PUE</td>\n",
       "      <td>1.0</td>\n",
       "      <td>0.00</td>\n",
       "      <td>0.00</td>\n",
       "      <td>0.0</td>\n",
       "      <td>0.0</td>\n",
       "      <td>NaN</td>\n",
       "      <td>0.0</td>\n",
       "      <td>0.0</td>\n",
       "      <td>I</td>\n",
       "      <td>Vigente</td>\n",
       "      <td>NaN</td>\n",
       "    </tr>\n",
       "  </tbody>\n",
       "</table>\n",
       "</div>"
      ],
      "text/plain": [
       "       Fecha         Folio                                  UUID  \\\n",
       "0 2022-01-01        280108  9DA0E63F-1D47-441F-93D7-C2E05AE4D35E   \n",
       "1 2022-01-01        280109  7E00E776-A839-4D57-B291-411109164B2F   \n",
       "2 2022-01-01  007817297284  BB6585C1-3B54-4130-AFD0-1867C3764821   \n",
       "\n",
       "            RFC                       Proveedor                TIPO GASTO  \\\n",
       "0  BLE1512082R9    BEPENSA LEASING S.A. DE C.V.  ARRENDAMIENTO FINANCIERO   \n",
       "1  BLE1512082R9    BEPENSA LEASING S.A. DE C.V.  ARRENDAMIENTO FINANCIERO   \n",
       "2  BNM840515VB1  BANCO NACIONAL DE MEXICO, S.A.         COMISION BANCARIA   \n",
       "\n",
       "                                         Descripción   MP   TC  Importe  \\\n",
       "0  AA RENTA EXIGIBLE CL0000006876 18/36 de 03/12/...  PPD  1.0  5551.38   \n",
       "1  AA RENTA EXIGIBLE CL0000006877 18/36 de 03/12/...  PPD  1.0  5551.98   \n",
       "2                           Servicios de Facturación  PUE  1.0     0.00   \n",
       "\n",
       "      IVA  RET ISR  RET IVA  Otros  TOTAL MX  TOTAL SAT Tipo   Status  \\\n",
       "0  888.22      0.0      0.0    NaN    6439.6     6439.6    I  Vigente   \n",
       "1  888.32      0.0      0.0    NaN    6440.3     6440.3    I  Vigente   \n",
       "2    0.00      0.0      0.0    NaN       0.0        0.0    I  Vigente   \n",
       "\n",
       "       Poliza  \n",
       "0  PE02-ENE22  \n",
       "1  PE03-ENE22  \n",
       "2         NaN  "
      ]
     },
     "execution_count": 3,
     "metadata": {},
     "output_type": "execute_result"
    }
   ],
   "source": [
    "datadf=pd.read_excel(\"Gastos y costos 20-23.xlsx\",skiprows=3,sheet_name='2022')\n",
    "datadf.head(3)"
   ]
  },
  {
   "cell_type": "markdown",
   "metadata": {},
   "source": [
    "***Seguimos trabajando de la misma manera que en las hojas anteriores***"
   ]
  },
  {
   "cell_type": "code",
   "execution_count": 4,
   "metadata": {},
   "outputs": [],
   "source": [
    "#Copia de nuestro dataframe\n",
    "df3=datadf.copy()"
   ]
  },
  {
   "cell_type": "code",
   "execution_count": 5,
   "metadata": {},
   "outputs": [
    {
     "data": {
      "text/plain": [
       "Fecha             0\n",
       "Folio           102\n",
       "UUID              0\n",
       "RFC               0\n",
       "Proveedor         0\n",
       "TIPO GASTO        0\n",
       "Descripción       0\n",
       "MP              553\n",
       "TC              636\n",
       "Importe           0\n",
       "IVA               0\n",
       "RET ISR           0\n",
       "RET IVA           0\n",
       "Otros          2577\n",
       "TOTAL MX          0\n",
       "TOTAL SAT         0\n",
       "Tipo              0\n",
       "Status            0\n",
       "Poliza          801\n",
       "dtype: int64"
      ]
     },
     "execution_count": 5,
     "metadata": {},
     "output_type": "execute_result"
    }
   ],
   "source": [
    "#Checamos los valores nulos\n",
    "vn=df3.isnull().sum()\n",
    "vn"
   ]
  },
  {
   "cell_type": "code",
   "execution_count": 7,
   "metadata": {},
   "outputs": [
    {
     "data": {
      "text/plain": [
       "Fecha             0\n",
       "Folio             0\n",
       "UUID              0\n",
       "RFC               0\n",
       "Proveedor         0\n",
       "TIPO GASTO        0\n",
       "Descripción       0\n",
       "MP              553\n",
       "TC              636\n",
       "Importe           0\n",
       "IVA               0\n",
       "RET ISR           0\n",
       "RET IVA           0\n",
       "Otros          2577\n",
       "TOTAL MX          0\n",
       "TOTAL SAT         0\n",
       "Tipo              0\n",
       "Status            0\n",
       "Poliza          801\n",
       "dtype: int64"
      ]
     },
     "execution_count": 7,
     "metadata": {},
     "output_type": "execute_result"
    }
   ],
   "source": [
    "df3[\"Folio\"]=df3[\"Folio\"].fillna(\"N/A\")\n",
    "vn=df3.isnull().sum()\n",
    "vn"
   ]
  },
  {
   "cell_type": "code",
   "execution_count": 14,
   "metadata": {},
   "outputs": [
    {
     "name": "stderr",
     "output_type": "stream",
     "text": [
      "/var/folders/19/7c2smbhs6b3g5ffy1ph3r__m0000gn/T/ipykernel_52109/2385948230.py:1: FutureWarning: Series.fillna with 'method' is deprecated and will raise in a future version. Use obj.ffill() or obj.bfill() instead.\n",
      "  df3[\"MP\"]=df3[\"MP\"].fillna(method=\"ffill\")\n"
     ]
    },
    {
     "data": {
      "text/plain": [
       "Fecha          0\n",
       "Folio          0\n",
       "UUID           0\n",
       "RFC            0\n",
       "Proveedor      0\n",
       "TIPO GASTO     0\n",
       "Descripción    0\n",
       "MP             0\n",
       "TC             0\n",
       "Importe        0\n",
       "IVA            0\n",
       "RET ISR        0\n",
       "RET IVA        0\n",
       "Otros          0\n",
       "TOTAL MX       0\n",
       "TOTAL SAT      0\n",
       "Tipo           0\n",
       "Status         0\n",
       "Poliza         0\n",
       "dtype: int64"
      ]
     },
     "execution_count": 14,
     "metadata": {},
     "output_type": "execute_result"
    }
   ],
   "source": [
    "df3[\"MP\"]=df3[\"MP\"].fillna(method=\"ffill\")\n",
    "vn=df3.isnull().sum()\n",
    "vn"
   ]
  },
  {
   "cell_type": "code",
   "execution_count": 16,
   "metadata": {},
   "outputs": [
    {
     "name": "stderr",
     "output_type": "stream",
     "text": [
      "/var/folders/19/7c2smbhs6b3g5ffy1ph3r__m0000gn/T/ipykernel_52109/1266643473.py:1: FutureWarning: Series.fillna with 'method' is deprecated and will raise in a future version. Use obj.ffill() or obj.bfill() instead.\n",
      "  df3[\"TC\"]=df3[\"TC\"].fillna(method=\"bfill\")\n"
     ]
    },
    {
     "data": {
      "text/plain": [
       "Fecha          0\n",
       "Folio          0\n",
       "UUID           0\n",
       "RFC            0\n",
       "Proveedor      0\n",
       "TIPO GASTO     0\n",
       "Descripción    0\n",
       "MP             0\n",
       "TC             0\n",
       "Importe        0\n",
       "IVA            0\n",
       "RET ISR        0\n",
       "RET IVA        0\n",
       "Otros          0\n",
       "TOTAL MX       0\n",
       "TOTAL SAT      0\n",
       "Tipo           0\n",
       "Status         0\n",
       "Poliza         0\n",
       "dtype: int64"
      ]
     },
     "execution_count": 16,
     "metadata": {},
     "output_type": "execute_result"
    }
   ],
   "source": [
    "df3[\"TC\"]=df3[\"TC\"].fillna(method=\"bfill\")\n",
    "vn=df3.isnull().sum()\n",
    "vn"
   ]
  },
  {
   "cell_type": "markdown",
   "metadata": {},
   "source": [
    "***Para rellenar los valores nulos en la columna \"Otros\", se utilizará un valor númerico en concreto, en este caso, el 0 dado que no se cuenta con esa información***"
   ]
  },
  {
   "cell_type": "code",
   "execution_count": 12,
   "metadata": {},
   "outputs": [
    {
     "data": {
      "text/plain": [
       "Fecha          0\n",
       "Folio          0\n",
       "UUID           0\n",
       "RFC            0\n",
       "Proveedor      0\n",
       "TIPO GASTO     0\n",
       "Descripción    0\n",
       "MP             0\n",
       "TC             0\n",
       "Importe        0\n",
       "IVA            0\n",
       "RET ISR        0\n",
       "RET IVA        0\n",
       "Otros          0\n",
       "TOTAL MX       0\n",
       "TOTAL SAT      0\n",
       "Tipo           0\n",
       "Status         0\n",
       "Poliza         0\n",
       "dtype: int64"
      ]
     },
     "execution_count": 12,
     "metadata": {},
     "output_type": "execute_result"
    }
   ],
   "source": [
    "df3[\"Otros\"]=df3[\"Otros\"].fillna(\"0\")\n",
    "vn=df3.isnull().sum()\n",
    "vn"
   ]
  },
  {
   "cell_type": "code",
   "execution_count": 11,
   "metadata": {},
   "outputs": [
    {
     "data": {
      "text/plain": [
       "Fecha             0\n",
       "Folio             0\n",
       "UUID              0\n",
       "RFC               0\n",
       "Proveedor         0\n",
       "TIPO GASTO        0\n",
       "Descripción       0\n",
       "MP                0\n",
       "TC                0\n",
       "Importe           0\n",
       "IVA               0\n",
       "RET ISR           0\n",
       "RET IVA           0\n",
       "Otros          2577\n",
       "TOTAL MX          0\n",
       "TOTAL SAT         0\n",
       "Tipo              0\n",
       "Status            0\n",
       "Poliza            0\n",
       "dtype: int64"
      ]
     },
     "execution_count": 11,
     "metadata": {},
     "output_type": "execute_result"
    }
   ],
   "source": [
    "df3[\"Poliza\"]=df3[\"Poliza\"].fillna(\"N/A\")\n",
    "vn=df3.isnull().sum()\n",
    "vn"
   ]
  },
  {
   "cell_type": "code",
   "execution_count": 18,
   "metadata": {},
   "outputs": [],
   "source": [
    "#Guardamos nuestro archivo\n",
    "df3.to_csv(\"GyC22.csv\")"
   ]
  }
 ],
 "metadata": {
  "kernelspec": {
   "display_name": "Python 3",
   "language": "python",
   "name": "python3"
  },
  "language_info": {
   "codemirror_mode": {
    "name": "ipython",
    "version": 3
   },
   "file_extension": ".py",
   "mimetype": "text/x-python",
   "name": "python",
   "nbconvert_exporter": "python",
   "pygments_lexer": "ipython3",
   "version": "3.12.4"
  }
 },
 "nbformat": 4,
 "nbformat_minor": 2
}
