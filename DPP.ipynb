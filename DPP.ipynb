{
 "cells": [
  {
   "cell_type": "code",
   "execution_count": 7,
   "metadata": {},
   "outputs": [],
   "source": [
    "#importamos librerias\n",
    "import pandas as pd\n",
    "import numpy as np\n",
    "import matplotlib.pyplot as plt"
   ]
  },
  {
   "cell_type": "code",
   "execution_count": 8,
   "metadata": {},
   "outputs": [
    {
     "data": {
      "text/html": [
       "<div>\n",
       "<style scoped>\n",
       "    .dataframe tbody tr th:only-of-type {\n",
       "        vertical-align: middle;\n",
       "    }\n",
       "\n",
       "    .dataframe tbody tr th {\n",
       "        vertical-align: top;\n",
       "    }\n",
       "\n",
       "    .dataframe thead th {\n",
       "        text-align: right;\n",
       "    }\n",
       "</style>\n",
       "<table border=\"1\" class=\"dataframe\">\n",
       "  <thead>\n",
       "    <tr style=\"text-align: right;\">\n",
       "      <th></th>\n",
       "      <th>CVE_DOC</th>\n",
       "      <th>FECHA_DOC</th>\n",
       "      <th>NOMBRE_VENDEDOR</th>\n",
       "      <th>NOMBRE_CLIENTE</th>\n",
       "      <th>CANT</th>\n",
       "      <th>CVE_ART</th>\n",
       "      <th>DESCR</th>\n",
       "      <th>PRECIO_UNITARIO</th>\n",
       "      <th>COSTO_UNITARIO</th>\n",
       "      <th>COSTO_UNITARIO_CALCULADO</th>\n",
       "      <th>SUBTOTAL_PARTIDA</th>\n",
       "      <th>COSTO_TOTAL_CALCULADO</th>\n",
       "      <th>MARGEN_UNITARIO_CALCULADO</th>\n",
       "      <th>MARGEN_TOTAL_CALCULADO</th>\n",
       "    </tr>\n",
       "  </thead>\n",
       "  <tbody>\n",
       "    <tr>\n",
       "      <th>0</th>\n",
       "      <td>F37034</td>\n",
       "      <td>2022-01-05</td>\n",
       "      <td>LETICIA RAMIREZ HERNANDEZ</td>\n",
       "      <td>PÚBLICO EN GENERAL</td>\n",
       "      <td>1.0</td>\n",
       "      <td>TUE00244</td>\n",
       "      <td>TUB COBRE 5/16\"ØX165MM CIRCULA1.5KW127V</td>\n",
       "      <td>434.48</td>\n",
       "      <td>52.80</td>\n",
       "      <td>52.80</td>\n",
       "      <td>434.48</td>\n",
       "      <td>52.80</td>\n",
       "      <td>381.68</td>\n",
       "      <td>381.68</td>\n",
       "    </tr>\n",
       "    <tr>\n",
       "      <th>1</th>\n",
       "      <td>F37036</td>\n",
       "      <td>2022-01-05</td>\n",
       "      <td>LETICIA RAMIREZ HERNANDEZ</td>\n",
       "      <td>JUAN ANTONIO RESENDIZ UGALDE</td>\n",
       "      <td>1.0</td>\n",
       "      <td>TUA00028</td>\n",
       "      <td>TUA U\" 5/16 ØX250MM 1200W 120V TAP1\"NPT</td>\n",
       "      <td>1264.05</td>\n",
       "      <td>327.18</td>\n",
       "      <td>327.18</td>\n",
       "      <td>1264.05</td>\n",
       "      <td>327.18</td>\n",
       "      <td>936.87</td>\n",
       "      <td>936.87</td>\n",
       "    </tr>\n",
       "    <tr>\n",
       "      <th>2</th>\n",
       "      <td>F37041</td>\n",
       "      <td>2022-01-05</td>\n",
       "      <td>DIEGO ARMANDO LEON DURAN</td>\n",
       "      <td>ANA BARBARA CRUZ PALACIOS</td>\n",
       "      <td>7.0</td>\n",
       "      <td>TP0007</td>\n",
       "      <td>TERMOPAR J 3/16 Ø X 1' 1/2 EXT. 7 MT</td>\n",
       "      <td>551.61</td>\n",
       "      <td>177.68</td>\n",
       "      <td>177.68</td>\n",
       "      <td>3861.29</td>\n",
       "      <td>1243.73</td>\n",
       "      <td>373.94</td>\n",
       "      <td>2617.56</td>\n",
       "    </tr>\n",
       "  </tbody>\n",
       "</table>\n",
       "</div>"
      ],
      "text/plain": [
       "  CVE_DOC  FECHA_DOC            NOMBRE_VENDEDOR                NOMBRE_CLIENTE  \\\n",
       "0  F37034 2022-01-05  LETICIA RAMIREZ HERNANDEZ            PÚBLICO EN GENERAL   \n",
       "1  F37036 2022-01-05  LETICIA RAMIREZ HERNANDEZ  JUAN ANTONIO RESENDIZ UGALDE   \n",
       "2  F37041 2022-01-05   DIEGO ARMANDO LEON DURAN     ANA BARBARA CRUZ PALACIOS   \n",
       "\n",
       "   CANT   CVE_ART                                    DESCR  PRECIO_UNITARIO  \\\n",
       "0   1.0  TUE00244  TUB COBRE 5/16\"ØX165MM CIRCULA1.5KW127V           434.48   \n",
       "1   1.0  TUA00028  TUA U\" 5/16 ØX250MM 1200W 120V TAP1\"NPT          1264.05   \n",
       "2   7.0    TP0007     TERMOPAR J 3/16 Ø X 1' 1/2 EXT. 7 MT           551.61   \n",
       "\n",
       "   COSTO_UNITARIO  COSTO_UNITARIO_CALCULADO  SUBTOTAL_PARTIDA  \\\n",
       "0           52.80                     52.80            434.48   \n",
       "1          327.18                    327.18           1264.05   \n",
       "2          177.68                    177.68           3861.29   \n",
       "\n",
       "   COSTO_TOTAL_CALCULADO  MARGEN_UNITARIO_CALCULADO  MARGEN_TOTAL_CALCULADO  \n",
       "0                  52.80                     381.68                  381.68  \n",
       "1                 327.18                     936.87                  936.87  \n",
       "2                1243.73                     373.94                 2617.56  "
      ]
     },
     "execution_count": 8,
     "metadata": {},
     "output_type": "execute_result"
    }
   ],
   "source": [
    "datadf=pd.read_excel(\"Detalle precios y productos fabricados 2022.xlsx\")\n",
    "datadf.head(3)"
   ]
  },
  {
   "cell_type": "code",
   "execution_count": 9,
   "metadata": {},
   "outputs": [],
   "source": [
    "#copia\n",
    "df1=datadf.copy()"
   ]
  },
  {
   "cell_type": "code",
   "execution_count": 10,
   "metadata": {},
   "outputs": [
    {
     "data": {
      "text/plain": [
       "CVE_DOC                      3\n",
       "FECHA_DOC                    3\n",
       "NOMBRE_VENDEDOR              2\n",
       "NOMBRE_CLIENTE               2\n",
       "CANT                         7\n",
       "CVE_ART                      2\n",
       "DESCR                        2\n",
       "PRECIO_UNITARIO              2\n",
       "COSTO_UNITARIO               4\n",
       "COSTO_UNITARIO_CALCULADO     2\n",
       "SUBTOTAL_PARTIDA             4\n",
       "COSTO_TOTAL_CALCULADO        0\n",
       "MARGEN_UNITARIO_CALCULADO    0\n",
       "MARGEN_TOTAL_CALCULADO       0\n",
       "dtype: int64"
      ]
     },
     "execution_count": 10,
     "metadata": {},
     "output_type": "execute_result"
    }
   ],
   "source": [
    "vn=df1.isnull().sum()\n",
    "vn"
   ]
  },
  {
   "cell_type": "code",
   "execution_count": 11,
   "metadata": {},
   "outputs": [
    {
     "name": "stderr",
     "output_type": "stream",
     "text": [
      "/var/folders/19/7c2smbhs6b3g5ffy1ph3r__m0000gn/T/ipykernel_53378/2374471095.py:1: FutureWarning: Series.fillna with 'method' is deprecated and will raise in a future version. Use obj.ffill() or obj.bfill() instead.\n",
      "  df1[\"CVE_DOC\"]=df1[\"CVE_DOC\"].fillna(method=\"ffill\")\n"
     ]
    },
    {
     "data": {
      "text/plain": [
       "CVE_DOC                      0\n",
       "FECHA_DOC                    3\n",
       "NOMBRE_VENDEDOR              2\n",
       "NOMBRE_CLIENTE               2\n",
       "CANT                         7\n",
       "CVE_ART                      2\n",
       "DESCR                        2\n",
       "PRECIO_UNITARIO              2\n",
       "COSTO_UNITARIO               4\n",
       "COSTO_UNITARIO_CALCULADO     2\n",
       "SUBTOTAL_PARTIDA             4\n",
       "COSTO_TOTAL_CALCULADO        0\n",
       "MARGEN_UNITARIO_CALCULADO    0\n",
       "MARGEN_TOTAL_CALCULADO       0\n",
       "dtype: int64"
      ]
     },
     "execution_count": 11,
     "metadata": {},
     "output_type": "execute_result"
    }
   ],
   "source": [
    "df1[\"CVE_DOC\"]=df1[\"CVE_DOC\"].fillna(method=\"ffill\")\n",
    "vn=df1.isnull().sum()\n",
    "vn"
   ]
  },
  {
   "cell_type": "code",
   "execution_count": 12,
   "metadata": {},
   "outputs": [
    {
     "name": "stderr",
     "output_type": "stream",
     "text": [
      "/var/folders/19/7c2smbhs6b3g5ffy1ph3r__m0000gn/T/ipykernel_53378/2752470135.py:1: FutureWarning: Series.fillna with 'method' is deprecated and will raise in a future version. Use obj.ffill() or obj.bfill() instead.\n",
      "  df1[\"FECHA_DOC\"]=df1[\"FECHA_DOC\"].fillna(method=\"bfill\")\n"
     ]
    },
    {
     "data": {
      "text/plain": [
       "CVE_DOC                      0\n",
       "FECHA_DOC                    0\n",
       "NOMBRE_VENDEDOR              2\n",
       "NOMBRE_CLIENTE               2\n",
       "CANT                         7\n",
       "CVE_ART                      2\n",
       "DESCR                        2\n",
       "PRECIO_UNITARIO              2\n",
       "COSTO_UNITARIO               4\n",
       "COSTO_UNITARIO_CALCULADO     2\n",
       "SUBTOTAL_PARTIDA             4\n",
       "COSTO_TOTAL_CALCULADO        0\n",
       "MARGEN_UNITARIO_CALCULADO    0\n",
       "MARGEN_TOTAL_CALCULADO       0\n",
       "dtype: int64"
      ]
     },
     "execution_count": 12,
     "metadata": {},
     "output_type": "execute_result"
    }
   ],
   "source": [
    "df1[\"FECHA_DOC\"]=df1[\"FECHA_DOC\"].fillna(method=\"bfill\")\n",
    "vn=df1.isnull().sum()\n",
    "vn"
   ]
  },
  {
   "cell_type": "code",
   "execution_count": 13,
   "metadata": {},
   "outputs": [
    {
     "data": {
      "text/plain": [
       "CVE_DOC                      0\n",
       "FECHA_DOC                    0\n",
       "NOMBRE_VENDEDOR              0\n",
       "NOMBRE_CLIENTE               0\n",
       "CANT                         7\n",
       "CVE_ART                      2\n",
       "DESCR                        2\n",
       "PRECIO_UNITARIO              2\n",
       "COSTO_UNITARIO               4\n",
       "COSTO_UNITARIO_CALCULADO     2\n",
       "SUBTOTAL_PARTIDA             4\n",
       "COSTO_TOTAL_CALCULADO        0\n",
       "MARGEN_UNITARIO_CALCULADO    0\n",
       "MARGEN_TOTAL_CALCULADO       0\n",
       "dtype: int64"
      ]
     },
     "execution_count": 13,
     "metadata": {},
     "output_type": "execute_result"
    }
   ],
   "source": [
    "df1[\"NOMBRE_VENDEDOR\"]=df1[\"NOMBRE_VENDEDOR\"].fillna(\"ND\")\n",
    "df1[\"NOMBRE_CLIENTE\"]=df1[\"NOMBRE_CLIENTE\"].fillna(\"ND\")\n",
    "vn=df1.isnull().sum()\n",
    "vn"
   ]
  },
  {
   "cell_type": "code",
   "execution_count": 15,
   "metadata": {},
   "outputs": [
    {
     "data": {
      "text/plain": [
       "CVE_DOC                      0\n",
       "FECHA_DOC                    0\n",
       "NOMBRE_VENDEDOR              0\n",
       "NOMBRE_CLIENTE               0\n",
       "CANT                         0\n",
       "CVE_ART                      2\n",
       "DESCR                        2\n",
       "PRECIO_UNITARIO              2\n",
       "COSTO_UNITARIO               4\n",
       "COSTO_UNITARIO_CALCULADO     2\n",
       "SUBTOTAL_PARTIDA             4\n",
       "COSTO_TOTAL_CALCULADO        0\n",
       "MARGEN_UNITARIO_CALCULADO    0\n",
       "MARGEN_TOTAL_CALCULADO       0\n",
       "dtype: int64"
      ]
     },
     "execution_count": 15,
     "metadata": {},
     "output_type": "execute_result"
    }
   ],
   "source": [
    "df1[\"CANT\"]=df1[\"CANT\"].fillna(round(datadf[\"CANT\"].mean(),1))\n",
    "vn=df1.isnull().sum()\n",
    "vn"
   ]
  },
  {
   "cell_type": "code",
   "execution_count": 16,
   "metadata": {},
   "outputs": [
    {
     "data": {
      "text/plain": [
       "CVE_DOC                      0\n",
       "FECHA_DOC                    0\n",
       "NOMBRE_VENDEDOR              0\n",
       "NOMBRE_CLIENTE               0\n",
       "CANT                         0\n",
       "CVE_ART                      0\n",
       "DESCR                        2\n",
       "PRECIO_UNITARIO              2\n",
       "COSTO_UNITARIO               4\n",
       "COSTO_UNITARIO_CALCULADO     2\n",
       "SUBTOTAL_PARTIDA             4\n",
       "COSTO_TOTAL_CALCULADO        0\n",
       "MARGEN_UNITARIO_CALCULADO    0\n",
       "MARGEN_TOTAL_CALCULADO       0\n",
       "dtype: int64"
      ]
     },
     "execution_count": 16,
     "metadata": {},
     "output_type": "execute_result"
    }
   ],
   "source": [
    "df1[\"CVE_ART\"]=df1[\"CVE_ART\"].fillna(\"N/A\")\n",
    "vn=df1.isnull().sum()\n",
    "vn"
   ]
  },
  {
   "cell_type": "code",
   "execution_count": 17,
   "metadata": {},
   "outputs": [
    {
     "data": {
      "text/plain": [
       "CVE_DOC                      0\n",
       "FECHA_DOC                    0\n",
       "NOMBRE_VENDEDOR              0\n",
       "NOMBRE_CLIENTE               0\n",
       "CANT                         0\n",
       "CVE_ART                      0\n",
       "DESCR                        0\n",
       "PRECIO_UNITARIO              2\n",
       "COSTO_UNITARIO               4\n",
       "COSTO_UNITARIO_CALCULADO     2\n",
       "SUBTOTAL_PARTIDA             4\n",
       "COSTO_TOTAL_CALCULADO        0\n",
       "MARGEN_UNITARIO_CALCULADO    0\n",
       "MARGEN_TOTAL_CALCULADO       0\n",
       "dtype: int64"
      ]
     },
     "execution_count": 17,
     "metadata": {},
     "output_type": "execute_result"
    }
   ],
   "source": [
    "df1[\"DESCR\"]=df1[\"DESCR\"].fillna(\"N/A\")\n",
    "vn=df1.isnull().sum()\n",
    "vn"
   ]
  },
  {
   "cell_type": "code",
   "execution_count": 20,
   "metadata": {},
   "outputs": [
    {
     "data": {
      "text/plain": [
       "CVE_DOC                      0\n",
       "FECHA_DOC                    0\n",
       "NOMBRE_VENDEDOR              0\n",
       "NOMBRE_CLIENTE               0\n",
       "CANT                         0\n",
       "CVE_ART                      0\n",
       "DESCR                        0\n",
       "PRECIO_UNITARIO              0\n",
       "COSTO_UNITARIO               0\n",
       "COSTO_UNITARIO_CALCULADO     0\n",
       "SUBTOTAL_PARTIDA             4\n",
       "COSTO_TOTAL_CALCULADO        0\n",
       "MARGEN_UNITARIO_CALCULADO    0\n",
       "MARGEN_TOTAL_CALCULADO       0\n",
       "dtype: int64"
      ]
     },
     "execution_count": 20,
     "metadata": {},
     "output_type": "execute_result"
    }
   ],
   "source": [
    "df1[\"PRECIO_UNITARIO\"]=df1[\"PRECIO_UNITARIO\"].fillna(round(datadf[\"PRECIO_UNITARIO\"].mean(),1))\n",
    "df1[\"COSTO_UNITARIO\"]=df1[\"COSTO_UNITARIO\"].fillna(round(datadf[\"COSTO_UNITARIO\"].mean(),1))\n",
    "df1[\"COSTO_UNITARIO_CALCULADO\"]=df1[\"COSTO_UNITARIO_CALCULADO\"].fillna(round(datadf[\"COSTO_UNITARIO_CALCULADO\"].mean(),1))\n",
    "vn=df1.isnull().sum()\n",
    "vn"
   ]
  },
  {
   "cell_type": "code",
   "execution_count": 22,
   "metadata": {},
   "outputs": [
    {
     "data": {
      "text/plain": [
       "CVE_DOC                      0\n",
       "FECHA_DOC                    0\n",
       "NOMBRE_VENDEDOR              0\n",
       "NOMBRE_CLIENTE               0\n",
       "CANT                         0\n",
       "CVE_ART                      0\n",
       "DESCR                        0\n",
       "PRECIO_UNITARIO              0\n",
       "COSTO_UNITARIO               0\n",
       "COSTO_UNITARIO_CALCULADO     0\n",
       "SUBTOTAL_PARTIDA             0\n",
       "COSTO_TOTAL_CALCULADO        0\n",
       "MARGEN_UNITARIO_CALCULADO    0\n",
       "MARGEN_TOTAL_CALCULADO       0\n",
       "dtype: int64"
      ]
     },
     "execution_count": 22,
     "metadata": {},
     "output_type": "execute_result"
    }
   ],
   "source": [
    "df1[\"SUBTOTAL_PARTIDA\"]=df1[\"SUBTOTAL_PARTIDA\"].fillna(round(datadf[\"SUBTOTAL_PARTIDA\"].mean(),1))\n",
    "vn=df1.isnull().sum()\n",
    "vn"
   ]
  },
  {
   "cell_type": "code",
   "execution_count": 23,
   "metadata": {},
   "outputs": [],
   "source": [
    "#Guardamos nuestro documento\n",
    "df1.to_csv(\"DPPF.csv\")"
   ]
  }
 ],
 "metadata": {
  "kernelspec": {
   "display_name": "Python 3",
   "language": "python",
   "name": "python3"
  },
  "language_info": {
   "codemirror_mode": {
    "name": "ipython",
    "version": 3
   },
   "file_extension": ".py",
   "mimetype": "text/x-python",
   "name": "python",
   "nbconvert_exporter": "python",
   "pygments_lexer": "ipython3",
   "version": "3.12.4"
  }
 },
 "nbformat": 4,
 "nbformat_minor": 2
}
