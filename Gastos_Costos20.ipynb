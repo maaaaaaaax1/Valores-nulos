{
 "cells": [
  {
   "cell_type": "code",
   "execution_count": 2,
   "metadata": {},
   "outputs": [],
   "source": [
    "#importamos librerias\n",
    "import pandas as pd\n",
    "import numpy as np\n",
    "import matplotlib.pyplot as plt"
   ]
  },
  {
   "cell_type": "code",
   "execution_count": 3,
   "metadata": {},
   "outputs": [
    {
     "data": {
      "text/html": [
       "<div>\n",
       "<style scoped>\n",
       "    .dataframe tbody tr th:only-of-type {\n",
       "        vertical-align: middle;\n",
       "    }\n",
       "\n",
       "    .dataframe tbody tr th {\n",
       "        vertical-align: top;\n",
       "    }\n",
       "\n",
       "    .dataframe thead th {\n",
       "        text-align: right;\n",
       "    }\n",
       "</style>\n",
       "<table border=\"1\" class=\"dataframe\">\n",
       "  <thead>\n",
       "    <tr style=\"text-align: right;\">\n",
       "      <th></th>\n",
       "      <th>FECHA</th>\n",
       "      <th>FOLIO</th>\n",
       "      <th>UUID</th>\n",
       "      <th>RFC</th>\n",
       "      <th>PROVEEDOR</th>\n",
       "      <th>TIPO GASTO</th>\n",
       "      <th>GASTO</th>\n",
       "      <th>DESCRIPCION</th>\n",
       "      <th>TC</th>\n",
       "      <th>IMPORTE</th>\n",
       "      <th>IVA</th>\n",
       "      <th>RET ISR</th>\n",
       "      <th>RET IVA</th>\n",
       "      <th>TOTAL MX</th>\n",
       "      <th>TOTAL SAT</th>\n",
       "      <th>TIPO</th>\n",
       "      <th>STATUS</th>\n",
       "      <th>POLIZA</th>\n",
       "      <th>Columna1</th>\n",
       "    </tr>\n",
       "  </thead>\n",
       "  <tbody>\n",
       "    <tr>\n",
       "      <th>0</th>\n",
       "      <td>2020-01-01</td>\n",
       "      <td>39408</td>\n",
       "      <td>BD20F436-72CC-4BE2-AD37-5999D71AA391</td>\n",
       "      <td>ARE080115PBA</td>\n",
       "      <td>ARSI RENTA SA DE CV</td>\n",
       "      <td>MAQUINARIA</td>\n",
       "      <td>NaN</td>\n",
       "      <td>Descripción: REVOLVEDORA, Modelo: ULTRAMP9A, M...</td>\n",
       "      <td>1.0</td>\n",
       "      <td>0.0</td>\n",
       "      <td>2248.28</td>\n",
       "      <td>0.0</td>\n",
       "      <td>0.0</td>\n",
       "      <td>2248.28</td>\n",
       "      <td>16300.0</td>\n",
       "      <td>I</td>\n",
       "      <td>Vigente</td>\n",
       "      <td>NaN</td>\n",
       "      <td>14051.72</td>\n",
       "    </tr>\n",
       "    <tr>\n",
       "      <th>1</th>\n",
       "      <td>2020-01-01</td>\n",
       "      <td>0001010100750847116902</td>\n",
       "      <td>85AEAC2E-6395-44A0-9CB9-754D06893375</td>\n",
       "      <td>BNM840515VB1</td>\n",
       "      <td>BANCO NACIONAL DE MEXICO, S.A.</td>\n",
       "      <td>COMISION BANCARIA</td>\n",
       "      <td>NaN</td>\n",
       "      <td>COMISION COBRADA</td>\n",
       "      <td>1.0</td>\n",
       "      <td>490.0</td>\n",
       "      <td>78.40</td>\n",
       "      <td>0.0</td>\n",
       "      <td>0.0</td>\n",
       "      <td>568.40</td>\n",
       "      <td>568.4</td>\n",
       "      <td>I</td>\n",
       "      <td>Vigente</td>\n",
       "      <td>NaN</td>\n",
       "      <td>0.00</td>\n",
       "    </tr>\n",
       "    <tr>\n",
       "      <th>2</th>\n",
       "      <td>2020-01-01</td>\n",
       "      <td>0001010100752163714102</td>\n",
       "      <td>BD0DFE85-D776-41CB-9C5C-4FA7923E687A</td>\n",
       "      <td>BNM840515VB1</td>\n",
       "      <td>BANCO NACIONAL DE MEXICO, S.A.</td>\n",
       "      <td>COMISION BANCARIA</td>\n",
       "      <td>NaN</td>\n",
       "      <td>COMISION COBRADA</td>\n",
       "      <td>1.0</td>\n",
       "      <td>195.0</td>\n",
       "      <td>31.20</td>\n",
       "      <td>0.0</td>\n",
       "      <td>0.0</td>\n",
       "      <td>226.20</td>\n",
       "      <td>226.2</td>\n",
       "      <td>I</td>\n",
       "      <td>Vigente</td>\n",
       "      <td>NaN</td>\n",
       "      <td>0.00</td>\n",
       "    </tr>\n",
       "  </tbody>\n",
       "</table>\n",
       "</div>"
      ],
      "text/plain": [
       "       FECHA                   FOLIO                                  UUID  \\\n",
       "0 2020-01-01                   39408  BD20F436-72CC-4BE2-AD37-5999D71AA391   \n",
       "1 2020-01-01  0001010100750847116902  85AEAC2E-6395-44A0-9CB9-754D06893375   \n",
       "2 2020-01-01  0001010100752163714102  BD0DFE85-D776-41CB-9C5C-4FA7923E687A   \n",
       "\n",
       "            RFC                       PROVEEDOR         TIPO GASTO GASTO  \\\n",
       "0  ARE080115PBA             ARSI RENTA SA DE CV         MAQUINARIA   NaN   \n",
       "1  BNM840515VB1  BANCO NACIONAL DE MEXICO, S.A.  COMISION BANCARIA   NaN   \n",
       "2  BNM840515VB1  BANCO NACIONAL DE MEXICO, S.A.  COMISION BANCARIA   NaN   \n",
       "\n",
       "                                         DESCRIPCION   TC  IMPORTE      IVA  \\\n",
       "0  Descripción: REVOLVEDORA, Modelo: ULTRAMP9A, M...  1.0      0.0  2248.28   \n",
       "1                                   COMISION COBRADA  1.0    490.0    78.40   \n",
       "2                                   COMISION COBRADA  1.0    195.0    31.20   \n",
       "\n",
       "   RET ISR  RET IVA  TOTAL MX  TOTAL SAT TIPO   STATUS POLIZA  Columna1  \n",
       "0      0.0      0.0   2248.28    16300.0    I  Vigente    NaN  14051.72  \n",
       "1      0.0      0.0    568.40      568.4    I  Vigente    NaN      0.00  \n",
       "2      0.0      0.0    226.20      226.2    I  Vigente    NaN      0.00  "
      ]
     },
     "execution_count": 3,
     "metadata": {},
     "output_type": "execute_result"
    }
   ],
   "source": [
    "datadf=pd.read_excel(\"Gastos y costos 20-23.xlsx\",skiprows=5,sheet_name='2020')\n",
    "datadf.head(3)"
   ]
  },
  {
   "cell_type": "code",
   "execution_count": 4,
   "metadata": {},
   "outputs": [],
   "source": [
    "#Comenzamos la limpieza de la primer hoja, realizando una copia de nuestro data frame primero\n",
    "df1=datadf.copy()"
   ]
  },
  {
   "cell_type": "markdown",
   "metadata": {},
   "source": [
    "Podemos observar que se presenta un gran número de valores faltantes, así que debemos optar por algún método de sustitución que nos ayude a rellenar estos sesgos sin afectar demasido los datos\n"
   ]
  },
  {
   "cell_type": "code",
   "execution_count": 6,
   "metadata": {},
   "outputs": [
    {
     "data": {
      "text/plain": [
       "FECHA             0\n",
       "FOLIO           189\n",
       "UUID              0\n",
       "RFC               0\n",
       "PROVEEDOR         0\n",
       "TIPO GASTO        0\n",
       "GASTO          2502\n",
       "DESCRIPCION       0\n",
       "TC              391\n",
       "IMPORTE          34\n",
       "IVA             268\n",
       "RET ISR           0\n",
       "RET IVA           0\n",
       "TOTAL MX          0\n",
       "TOTAL SAT         0\n",
       "TIPO              1\n",
       "STATUS            0\n",
       "POLIZA         3321\n",
       "Columna1          0\n",
       "dtype: int64"
      ]
     },
     "execution_count": 6,
     "metadata": {},
     "output_type": "execute_result"
    }
   ],
   "source": [
    "vn=df1.isnull().sum()\n",
    "vn"
   ]
  },
  {
   "cell_type": "markdown",
   "metadata": {},
   "source": [
    "***Para limpiar la columna folio, con 189 valores nulos, se opta por usar el método de String, dado que el folio sirve como identificador único, no podemos arriesgarnos a asignar datos repetidos, además, de esta forma, se podrán filtrar más fácil los valores faltantes***"
   ]
  },
  {
   "cell_type": "code",
   "execution_count": 7,
   "metadata": {},
   "outputs": [],
   "source": [
    "df1[\"FOLIO\"]=df1[\"FOLIO\"].fillna(\"N/A\")"
   ]
  },
  {
   "cell_type": "code",
   "execution_count": 8,
   "metadata": {},
   "outputs": [
    {
     "data": {
      "text/plain": [
       "FECHA             0\n",
       "FOLIO             0\n",
       "UUID              0\n",
       "RFC               0\n",
       "PROVEEDOR         0\n",
       "TIPO GASTO        0\n",
       "GASTO          2502\n",
       "DESCRIPCION       0\n",
       "TC              391\n",
       "IMPORTE          34\n",
       "IVA             268\n",
       "RET ISR           0\n",
       "RET IVA           0\n",
       "TOTAL MX          0\n",
       "TOTAL SAT         0\n",
       "TIPO              1\n",
       "STATUS            0\n",
       "POLIZA         3321\n",
       "Columna1          0\n",
       "dtype: int64"
      ]
     },
     "execution_count": 8,
     "metadata": {},
     "output_type": "execute_result"
    }
   ],
   "source": [
    "#Corroboramos que se llenen exitosamente\n",
    "vn=df1.isnull().sum()\n",
    "vn\n"
   ]
  },
  {
   "cell_type": "markdown",
   "metadata": {},
   "source": [
    "***Ahora, para la columna gasto, se hará una sustitución con String, dado que la variable es de tipo texto*** \n"
   ]
  },
  {
   "cell_type": "code",
   "execution_count": 9,
   "metadata": {},
   "outputs": [],
   "source": [
    "df1[\"GASTO\"]=df1[\"GASTO\"].fillna(\"SIN DEFINIR\")"
   ]
  },
  {
   "cell_type": "code",
   "execution_count": 10,
   "metadata": {},
   "outputs": [
    {
     "data": {
      "text/plain": [
       "FECHA             0\n",
       "FOLIO             0\n",
       "UUID              0\n",
       "RFC               0\n",
       "PROVEEDOR         0\n",
       "TIPO GASTO        0\n",
       "GASTO             0\n",
       "DESCRIPCION       0\n",
       "TC              391\n",
       "IMPORTE          34\n",
       "IVA             268\n",
       "RET ISR           0\n",
       "RET IVA           0\n",
       "TOTAL MX          0\n",
       "TOTAL SAT         0\n",
       "TIPO              1\n",
       "STATUS            0\n",
       "POLIZA         3321\n",
       "Columna1          0\n",
       "dtype: int64"
      ]
     },
     "execution_count": 10,
     "metadata": {},
     "output_type": "execute_result"
    }
   ],
   "source": [
    "#Corroboramos\n",
    "vn=df1.isnull().sum()\n",
    "vn"
   ]
  },
  {
   "cell_type": "markdown",
   "metadata": {},
   "source": [
    "***Ahora, para la columna TC, dado que se tiene el mismo valor en cada espacio no nulo, se puede usar el tercer método de sustitución visto en clase, el de rellenar con un número en concreto, en este caso, el 1, dado que es el valor que está siempre presente, se puede asumir que es el valor faltante***"
   ]
  },
  {
   "cell_type": "code",
   "execution_count": 12,
   "metadata": {},
   "outputs": [],
   "source": [
    "df1[\"TC\"]=df1[\"TC\"].fillna(1)"
   ]
  },
  {
   "cell_type": "code",
   "execution_count": 13,
   "metadata": {},
   "outputs": [
    {
     "data": {
      "text/plain": [
       "FECHA             0\n",
       "FOLIO             0\n",
       "UUID              0\n",
       "RFC               0\n",
       "PROVEEDOR         0\n",
       "TIPO GASTO        0\n",
       "GASTO             0\n",
       "DESCRIPCION       0\n",
       "TC                0\n",
       "IMPORTE          34\n",
       "IVA             268\n",
       "RET ISR           0\n",
       "RET IVA           0\n",
       "TOTAL MX          0\n",
       "TOTAL SAT         0\n",
       "TIPO              1\n",
       "STATUS            0\n",
       "POLIZA         3321\n",
       "Columna1          0\n",
       "dtype: int64"
      ]
     },
     "execution_count": 13,
     "metadata": {},
     "output_type": "execute_result"
    }
   ],
   "source": [
    "#Corroboramos\n",
    "vn=df1.isnull().sum()\n",
    "vn"
   ]
  },
  {
   "cell_type": "markdown",
   "metadata": {},
   "source": [
    "***En cuanto a la columna IMPORTE, se puede llevar a cabo una sustitución por el método mean, para poder conservar la media del conjunto de datos original*** "
   ]
  },
  {
   "cell_type": "code",
   "execution_count": 14,
   "metadata": {},
   "outputs": [],
   "source": [
    "df1[\"IMPORTE\"]=df1[\"IMPORTE\"].fillna(round(datadf[\"IMPORTE\"].mean(),1))\n"
   ]
  },
  {
   "cell_type": "code",
   "execution_count": 15,
   "metadata": {},
   "outputs": [
    {
     "data": {
      "text/plain": [
       "FECHA             0\n",
       "FOLIO             0\n",
       "UUID              0\n",
       "RFC               0\n",
       "PROVEEDOR         0\n",
       "TIPO GASTO        0\n",
       "GASTO             0\n",
       "DESCRIPCION       0\n",
       "TC                0\n",
       "IMPORTE           0\n",
       "IVA             268\n",
       "RET ISR           0\n",
       "RET IVA           0\n",
       "TOTAL MX          0\n",
       "TOTAL SAT         0\n",
       "TIPO              1\n",
       "STATUS            0\n",
       "POLIZA         3321\n",
       "Columna1          0\n",
       "dtype: int64"
      ]
     },
     "execution_count": 15,
     "metadata": {},
     "output_type": "execute_result"
    }
   ],
   "source": [
    "#Verificamos\n",
    "vn=df1.isnull().sum()\n",
    "vn"
   ]
  },
  {
   "cell_type": "markdown",
   "metadata": {},
   "source": [
    "***En la columna IVA, se decide hacer lo mismo que en la columna IMPORTE, para poder conservar la media del conjunto de datos original***"
   ]
  },
  {
   "cell_type": "code",
   "execution_count": 17,
   "metadata": {},
   "outputs": [
    {
     "data": {
      "text/plain": [
       "FECHA             0\n",
       "FOLIO             0\n",
       "UUID              0\n",
       "RFC               0\n",
       "PROVEEDOR         0\n",
       "TIPO GASTO        0\n",
       "GASTO             0\n",
       "DESCRIPCION       0\n",
       "TC                0\n",
       "IMPORTE           0\n",
       "IVA               0\n",
       "RET ISR           0\n",
       "RET IVA           0\n",
       "TOTAL MX          0\n",
       "TOTAL SAT         0\n",
       "TIPO              1\n",
       "STATUS            0\n",
       "POLIZA         3321\n",
       "Columna1          0\n",
       "dtype: int64"
      ]
     },
     "execution_count": 17,
     "metadata": {},
     "output_type": "execute_result"
    }
   ],
   "source": [
    "df1[\"IVA\"]=df1[\"IVA\"].fillna(round(datadf[\"IVA\"].mean(),1))\n",
    "vn=df1.isnull().sum()\n",
    "vn\n"
   ]
  },
  {
   "cell_type": "markdown",
   "metadata": {},
   "source": [
    "***Para la columna TIPO, se hace una sustitución usando el método bfill, para rellenarlo con el valor anterior al faltante***"
   ]
  },
  {
   "cell_type": "code",
   "execution_count": 19,
   "metadata": {},
   "outputs": [
    {
     "name": "stderr",
     "output_type": "stream",
     "text": [
      "/var/folders/19/7c2smbhs6b3g5ffy1ph3r__m0000gn/T/ipykernel_51221/2472197598.py:1: FutureWarning: Series.fillna with 'method' is deprecated and will raise in a future version. Use obj.ffill() or obj.bfill() instead.\n",
      "  df1[\"TIPO\"]=df1[\"TIPO\"].fillna(method=\"bfill\")\n"
     ]
    },
    {
     "data": {
      "text/plain": [
       "FECHA             0\n",
       "FOLIO             0\n",
       "UUID              0\n",
       "RFC               0\n",
       "PROVEEDOR         0\n",
       "TIPO GASTO        0\n",
       "GASTO             0\n",
       "DESCRIPCION       0\n",
       "TC                0\n",
       "IMPORTE           0\n",
       "IVA               0\n",
       "RET ISR           0\n",
       "RET IVA           0\n",
       "TOTAL MX          0\n",
       "TOTAL SAT         0\n",
       "TIPO              0\n",
       "STATUS            0\n",
       "POLIZA         3321\n",
       "Columna1          0\n",
       "dtype: int64"
      ]
     },
     "execution_count": 19,
     "metadata": {},
     "output_type": "execute_result"
    }
   ],
   "source": [
    "df1[\"TIPO\"]=df1[\"TIPO\"].fillna(method=\"bfill\")\n",
    "vn=df1.isnull().sum()\n",
    "vn"
   ]
  },
  {
   "cell_type": "markdown",
   "metadata": {},
   "source": [
    "***Finalmente, para las pólizas faltantes, se asume que el cliente no cuenta con póliza, por lo que se hará uso del método de sustitución de string***"
   ]
  },
  {
   "cell_type": "code",
   "execution_count": 21,
   "metadata": {},
   "outputs": [
    {
     "data": {
      "text/plain": [
       "FECHA          0\n",
       "FOLIO          0\n",
       "UUID           0\n",
       "RFC            0\n",
       "PROVEEDOR      0\n",
       "TIPO GASTO     0\n",
       "GASTO          0\n",
       "DESCRIPCION    0\n",
       "TC             0\n",
       "IMPORTE        0\n",
       "IVA            0\n",
       "RET ISR        0\n",
       "RET IVA        0\n",
       "TOTAL MX       0\n",
       "TOTAL SAT      0\n",
       "TIPO           0\n",
       "STATUS         0\n",
       "POLIZA         0\n",
       "Columna1       0\n",
       "dtype: int64"
      ]
     },
     "execution_count": 21,
     "metadata": {},
     "output_type": "execute_result"
    }
   ],
   "source": [
    "df1[\"POLIZA\"]=df1[\"POLIZA\"].fillna(\"N/A\")\n",
    "vn=df1.isnull().sum()\n",
    "vn"
   ]
  },
  {
   "cell_type": "code",
   "execution_count": 22,
   "metadata": {},
   "outputs": [],
   "source": [
    "#Guardamos nuestro archivo csv\n",
    "df1.to_csv(\"GyC21.csv\")"
   ]
  }
 ],
 "metadata": {
  "kernelspec": {
   "display_name": "Python 3",
   "language": "python",
   "name": "python3"
  },
  "language_info": {
   "codemirror_mode": {
    "name": "ipython",
    "version": 3
   },
   "file_extension": ".py",
   "mimetype": "text/x-python",
   "name": "python",
   "nbconvert_exporter": "python",
   "pygments_lexer": "ipython3",
   "version": "3.12.4"
  }
 },
 "nbformat": 4,
 "nbformat_minor": 2
}
